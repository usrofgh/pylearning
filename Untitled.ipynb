{
 "cells": [
  {
   "cell_type": "code",
   "execution_count": 17,
   "id": "7dd43546",
   "metadata": {},
   "outputs": [],
   "source": [
    "import pandas as pd\n",
    "import numpy as np"
   ]
  },
  {
   "cell_type": "code",
   "execution_count": 22,
   "id": "093bcea3",
   "metadata": {},
   "outputs": [],
   "source": [
    "df = pd.read_csv(\"profiles.csv\")"
   ]
  },
  {
   "cell_type": "code",
   "execution_count": 23,
   "id": "04dd0c8b",
   "metadata": {},
   "outputs": [],
   "source": [
    "df.set_index(\"id\", inplace=True)"
   ]
  },
  {
   "cell_type": "code",
   "execution_count": 27,
   "id": "c02eb053",
   "metadata": {},
   "outputs": [
    {
     "data": {
      "text/html": [
       "<div>\n",
       "<style scoped>\n",
       "    .dataframe tbody tr th:only-of-type {\n",
       "        vertical-align: middle;\n",
       "    }\n",
       "\n",
       "    .dataframe tbody tr th {\n",
       "        vertical-align: top;\n",
       "    }\n",
       "\n",
       "    .dataframe thead th {\n",
       "        text-align: right;\n",
       "    }\n",
       "</style>\n",
       "<table border=\"1\" class=\"dataframe\">\n",
       "  <thead>\n",
       "    <tr style=\"text-align: right;\">\n",
       "      <th></th>\n",
       "      <th>date</th>\n",
       "      <th>title</th>\n",
       "      <th>description</th>\n",
       "      <th>attributes</th>\n",
       "    </tr>\n",
       "    <tr>\n",
       "      <th>id</th>\n",
       "      <th></th>\n",
       "      <th></th>\n",
       "      <th></th>\n",
       "      <th></th>\n",
       "    </tr>\n",
       "  </thead>\n",
       "  <tbody>\n",
       "    <tr>\n",
       "      <th>776380640</th>\n",
       "      <td>Сьогодні о 11:49</td>\n",
       "      <td>Сдам двухкомнатную квартиру сдача</td>\n",
       "      <td>Сдам квартиру ул. Александра Кониского(Володар...</td>\n",
       "      <td>[&lt;p class=\"css-65jx20-TextStyled er34gjf0\"&gt;&lt;sp...</td>\n",
       "    </tr>\n",
       "    <tr>\n",
       "      <th>776381397</th>\n",
       "      <td>Сьогодні о 11:38</td>\n",
       "      <td>Сдам 2 квартиру на Левобережном-2</td>\n",
       "      <td>Цена аренды 7500 грн возможен торг на месте.\\r...</td>\n",
       "      <td>[&lt;p class=\"css-65jx20-TextStyled er34gjf0\"&gt;&lt;sp...</td>\n",
       "    </tr>\n",
       "    <tr>\n",
       "      <th>772658912</th>\n",
       "      <td>Сьогодні о 11:30</td>\n",
       "      <td>Сдам большую 1 ком/квартиру в Центре, ул. Княз...</td>\n",
       "      <td>Сдам большую 1 ком/квартиру в Центре, ул. Княз...</td>\n",
       "      <td>[&lt;p class=\"css-65jx20-TextStyled er34gjf0\"&gt;&lt;sp...</td>\n",
       "    </tr>\n",
       "    <tr>\n",
       "      <th>751443895</th>\n",
       "      <td>Сьогодні о 11:23</td>\n",
       "      <td>Сдам 1 комнатную квартиру в начале Правды ( пр...</td>\n",
       "      <td>По данному объекту не сотрудничаю!\\r\\nСдаётся ...</td>\n",
       "      <td>[&lt;p class=\"css-65jx20-TextStyled er34gjf0\"&gt;&lt;sp...</td>\n",
       "    </tr>\n",
       "  </tbody>\n",
       "</table>\n",
       "</div>"
      ],
      "text/plain": [
       "                       date  \\\n",
       "id                            \n",
       "776380640  Сьогодні о 11:49   \n",
       "776381397  Сьогодні о 11:38   \n",
       "772658912  Сьогодні о 11:30   \n",
       "751443895  Сьогодні о 11:23   \n",
       "\n",
       "                                                       title  \\\n",
       "id                                                             \n",
       "776380640                  Сдам двухкомнатную квартиру сдача   \n",
       "776381397                  Сдам 2 квартиру на Левобережном-2   \n",
       "772658912  Сдам большую 1 ком/квартиру в Центре, ул. Княз...   \n",
       "751443895  Сдам 1 комнатную квартиру в начале Правды ( пр...   \n",
       "\n",
       "                                                 description  \\\n",
       "id                                                             \n",
       "776380640  Сдам квартиру ул. Александра Кониского(Володар...   \n",
       "776381397  Цена аренды 7500 грн возможен торг на месте.\\r...   \n",
       "772658912  Сдам большую 1 ком/квартиру в Центре, ул. Княз...   \n",
       "751443895  По данному объекту не сотрудничаю!\\r\\nСдаётся ...   \n",
       "\n",
       "                                                  attributes  \n",
       "id                                                            \n",
       "776380640  [<p class=\"css-65jx20-TextStyled er34gjf0\"><sp...  \n",
       "776381397  [<p class=\"css-65jx20-TextStyled er34gjf0\"><sp...  \n",
       "772658912  [<p class=\"css-65jx20-TextStyled er34gjf0\"><sp...  \n",
       "751443895  [<p class=\"css-65jx20-TextStyled er34gjf0\"><sp...  "
      ]
     },
     "execution_count": 27,
     "metadata": {},
     "output_type": "execute_result"
    }
   ],
   "source": [
    "df"
   ]
  },
  {
   "cell_type": "code",
   "execution_count": null,
   "id": "7850474b",
   "metadata": {},
   "outputs": [],
   "source": []
  }
 ],
 "metadata": {
  "kernelspec": {
   "display_name": "Python 3 (ipykernel)",
   "language": "python",
   "name": "python3"
  },
  "language_info": {
   "codemirror_mode": {
    "name": "ipython",
    "version": 3
   },
   "file_extension": ".py",
   "mimetype": "text/x-python",
   "name": "python",
   "nbconvert_exporter": "python",
   "pygments_lexer": "ipython3",
   "version": "3.11.0"
  }
 },
 "nbformat": 4,
 "nbformat_minor": 5
}
