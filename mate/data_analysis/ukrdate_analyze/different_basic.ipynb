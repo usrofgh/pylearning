{
 "cells": [
  {
   "cell_type": "code",
   "execution_count": 101,
   "id": "49c7827f",
   "metadata": {},
   "outputs": [],
   "source": [
    "import pandas as pd\n",
    "import numpy as np\n",
    "import csv\n",
    "import sys"
   ]
  },
  {
   "cell_type": "code",
   "execution_count": 197,
   "id": "732fd992",
   "metadata": {},
   "outputs": [],
   "source": [
    "csv_path = \"C:\\\\Users\\\\Вика\\\\Desktop\\\\py_notebook\\\\ukrdate\\\\data\\\\profiles.csv\""
   ]
  },
  {
   "cell_type": "code",
   "execution_count": 198,
   "id": "a753ca5b",
   "metadata": {},
   "outputs": [],
   "source": [
    "with open(csv_path, \"r\", encoding=\"UTF-8\", newline=\"\") as reader:\n",
    "    profiles = reader.read().splitlines()\n"
   ]
  },
  {
   "cell_type": "code",
   "execution_count": 379,
   "id": "f596595b",
   "metadata": {},
   "outputs": [],
   "source": [
    "profiles_without_optimaze = pd.read_csv(csv_path,\n",
    "                       header=0,\n",
    "                       names=[\"id\", \"name\", \"age\", \"z\", \"city\", \"country\", \"from\", \"to\", \"interests\", \"urls\", \"last\", \"prflink\"],\n",
    "                       skip_blank_lines=True)\n",
    "\n",
    "\n",
    "profiles_with_optimaze = pd.read_csv(csv_path,\n",
    "                       header=0,\n",
    "                       names=[\"id\", \"name\", \"age\", \"z\", \"city\", \"country\", \"from\", \"to\", \"interests\", \"urls\", \"last\", \"prflink\"],\n",
    "                       skip_blank_lines=True,\n",
    "                       dtype={\"from\": np.float16, \n",
    "                              \"to\": np.float16, \n",
    "                              \"age\": np.int8})"
   ]
  },
  {
   "cell_type": "markdown",
   "id": "3dcc0d62",
   "metadata": {},
   "source": [
    "<H1>Действия ниже можно сделать в read_csv</H1>"
   ]
  },
  {
   "cell_type": "code",
   "execution_count": 380,
   "id": "932666dc",
   "metadata": {},
   "outputs": [
    {
     "data": {
      "text/html": [
       "<div>\n",
       "<style scoped>\n",
       "    .dataframe tbody tr th:only-of-type {\n",
       "        vertical-align: middle;\n",
       "    }\n",
       "\n",
       "    .dataframe tbody tr th {\n",
       "        vertical-align: top;\n",
       "    }\n",
       "\n",
       "    .dataframe thead th {\n",
       "        text-align: right;\n",
       "    }\n",
       "</style>\n",
       "<table border=\"1\" class=\"dataframe\">\n",
       "  <thead>\n",
       "    <tr style=\"text-align: right;\">\n",
       "      <th></th>\n",
       "      <th>id</th>\n",
       "      <th>name</th>\n",
       "      <th>age</th>\n",
       "      <th>z</th>\n",
       "      <th>city</th>\n",
       "      <th>country</th>\n",
       "      <th>from</th>\n",
       "      <th>to</th>\n",
       "      <th>interests</th>\n",
       "      <th>urls</th>\n",
       "      <th>last</th>\n",
       "      <th>prflink</th>\n",
       "    </tr>\n",
       "  </thead>\n",
       "  <tbody>\n",
       "    <tr>\n",
       "      <th>0</th>\n",
       "      <td>6168433</td>\n",
       "      <td>OLGA</td>\n",
       "      <td>52</td>\n",
       "      <td>Рыбы</td>\n",
       "      <td>Геническ</td>\n",
       "      <td>Украина</td>\n",
       "      <td>48.0</td>\n",
       "      <td>62.0</td>\n",
       "      <td>дружба, любовь, брак, встреча</td>\n",
       "      <td>https://ukrdate.net/photos/33/3433/6168433/oci...</td>\n",
       "      <td>NaN</td>\n",
       "      <td>https://ukrdate.net/u/uk5067609</td>\n",
       "    </tr>\n",
       "    <tr>\n",
       "      <th>1</th>\n",
       "      <td>11790031</td>\n",
       "      <td>Лия</td>\n",
       "      <td>60</td>\n",
       "      <td>Овен</td>\n",
       "      <td>Киев</td>\n",
       "      <td>Украина</td>\n",
       "      <td>58.0</td>\n",
       "      <td>66.0</td>\n",
       "      <td>дружба, любовь, брак, встреча</td>\n",
       "      <td>https://ukrdate.net/photos/31/31/11790031/viyk...</td>\n",
       "      <td>была позавчера</td>\n",
       "      <td>https://ukrdate.net/u/du8430249</td>\n",
       "    </tr>\n",
       "    <tr>\n",
       "      <th>2</th>\n",
       "      <td>10193113</td>\n",
       "      <td>Светлана</td>\n",
       "      <td>53</td>\n",
       "      <td>Рак</td>\n",
       "      <td>Запорожье</td>\n",
       "      <td>Украина</td>\n",
       "      <td>40.0</td>\n",
       "      <td>61.0</td>\n",
       "      <td>дружба</td>\n",
       "      <td>https://ukrdate.net/photos/113/3113/10193113/y...</td>\n",
       "      <td>была час назад</td>\n",
       "      <td>https://ukrdate.net/u/ru9432768</td>\n",
       "    </tr>\n",
       "  </tbody>\n",
       "</table>\n",
       "</div>"
      ],
      "text/plain": [
       "         id      name  age     z       city  country  from    to  \\\n",
       "0   6168433      OLGA   52  Рыбы   Геническ  Украина  48.0  62.0   \n",
       "1  11790031       Лия   60  Овен       Киев  Украина  58.0  66.0   \n",
       "2  10193113  Светлана   53   Рак  Запорожье  Украина  40.0  61.0   \n",
       "\n",
       "                       interests  \\\n",
       "0  дружба, любовь, брак, встреча   \n",
       "1  дружба, любовь, брак, встреча   \n",
       "2                         дружба   \n",
       "\n",
       "                                                urls            last  \\\n",
       "0  https://ukrdate.net/photos/33/3433/6168433/oci...             NaN   \n",
       "1  https://ukrdate.net/photos/31/31/11790031/viyk...  была позавчера   \n",
       "2  https://ukrdate.net/photos/113/3113/10193113/y...  была час назад   \n",
       "\n",
       "                           prflink  \n",
       "0  https://ukrdate.net/u/uk5067609  \n",
       "1  https://ukrdate.net/u/du8430249  \n",
       "2  https://ukrdate.net/u/ru9432768  "
      ]
     },
     "execution_count": 380,
     "metadata": {},
     "output_type": "execute_result"
    }
   ],
   "source": [
    "profiles_with_optimaze.head(3)"
   ]
  },
  {
   "cell_type": "code",
   "execution_count": 381,
   "id": "6cf62d08",
   "metadata": {},
   "outputs": [],
   "source": [
    "ages = pd.Series(profiles_with_optimaze[\"age\"])"
   ]
  },
  {
   "cell_type": "code",
   "execution_count": 382,
   "id": "6094968f",
   "metadata": {},
   "outputs": [],
   "source": [
    "ages.name = \"Age\""
   ]
  },
  {
   "cell_type": "code",
   "execution_count": 383,
   "id": "9c8e8f85",
   "metadata": {},
   "outputs": [
    {
     "data": {
      "text/plain": [
       "9       29\n",
       "10      26\n",
       "11      24\n",
       "26      26\n",
       "29      23\n",
       "        ..\n",
       "1126    28\n",
       "1127    28\n",
       "1131    29\n",
       "1135    28\n",
       "1155    21\n",
       "Name: Age, Length: 200, dtype: int8"
      ]
     },
     "execution_count": 383,
     "metadata": {},
     "output_type": "execute_result"
    }
   ],
   "source": [
    "ages[(ages[ages > 20]) & (ages[ages < 30])]"
   ]
  },
  {
   "cell_type": "code",
   "execution_count": 384,
   "id": "fbe5b89f",
   "metadata": {},
   "outputs": [
    {
     "data": {
      "text/plain": [
       "41.44772344013491"
      ]
     },
     "execution_count": 384,
     "metadata": {},
     "output_type": "execute_result"
    }
   ],
   "source": [
    "ages.mean()"
   ]
  },
  {
   "cell_type": "code",
   "execution_count": 385,
   "id": "2197b018",
   "metadata": {},
   "outputs": [
    {
     "data": {
      "text/plain": [
       "pandas.core.frame.DataFrame"
      ]
     },
     "execution_count": 385,
     "metadata": {},
     "output_type": "execute_result"
    }
   ],
   "source": [
    "df = pd.DataFrame(profiles_with_optimaze)\n",
    "type(df)"
   ]
  },
  {
   "cell_type": "code",
   "execution_count": 386,
   "id": "d3c376ad",
   "metadata": {},
   "outputs": [
    {
     "data": {
      "text/plain": [
       "Index(['id', 'name', 'age', 'z', 'city', 'country', 'from', 'to', 'interests',\n",
       "       'urls', 'last', 'prflink'],\n",
       "      dtype='object')"
      ]
     },
     "execution_count": 386,
     "metadata": {},
     "output_type": "execute_result"
    }
   ],
   "source": [
    "df.columns"
   ]
  },
  {
   "cell_type": "code",
   "execution_count": 387,
   "id": "3af5092f",
   "metadata": {},
   "outputs": [
    {
     "data": {
      "text/plain": [
       "RangeIndex(start=0, stop=1186, step=1)"
      ]
     },
     "execution_count": 387,
     "metadata": {},
     "output_type": "execute_result"
    }
   ],
   "source": [
    "df.index"
   ]
  },
  {
   "cell_type": "code",
   "execution_count": 388,
   "id": "29bfbda8",
   "metadata": {},
   "outputs": [
    {
     "name": "stdout",
     "output_type": "stream",
     "text": [
      "<class 'pandas.core.frame.DataFrame'>\n",
      "RangeIndex: 1186 entries, 0 to 1185\n",
      "Data columns (total 12 columns):\n",
      " #   Column     Non-Null Count  Dtype  \n",
      "---  ------     --------------  -----  \n",
      " 0   id         1186 non-null   int64  \n",
      " 1   name       1186 non-null   object \n",
      " 2   age        1186 non-null   int8   \n",
      " 3   z          1186 non-null   object \n",
      " 4   city       1186 non-null   object \n",
      " 5   country    1186 non-null   object \n",
      " 6   from       1184 non-null   float16\n",
      " 7   to         1184 non-null   float16\n",
      " 8   interests  1186 non-null   object \n",
      " 9   urls       1186 non-null   object \n",
      " 10  last       1132 non-null   object \n",
      " 11  prflink    1186 non-null   object \n",
      "dtypes: float16(2), int64(1), int8(1), object(8)\n",
      "memory usage: 89.3+ KB\n"
     ]
    }
   ],
   "source": [
    "df.info()"
   ]
  },
  {
   "cell_type": "code",
   "execution_count": 389,
   "id": "52f4245f",
   "metadata": {},
   "outputs": [
    {
     "data": {
      "text/html": [
       "<div>\n",
       "<style scoped>\n",
       "    .dataframe tbody tr th:only-of-type {\n",
       "        vertical-align: middle;\n",
       "    }\n",
       "\n",
       "    .dataframe tbody tr th {\n",
       "        vertical-align: top;\n",
       "    }\n",
       "\n",
       "    .dataframe thead th {\n",
       "        text-align: right;\n",
       "    }\n",
       "</style>\n",
       "<table border=\"1\" class=\"dataframe\">\n",
       "  <thead>\n",
       "    <tr style=\"text-align: right;\">\n",
       "      <th></th>\n",
       "      <th>id</th>\n",
       "      <th>age</th>\n",
       "      <th>from</th>\n",
       "      <th>to</th>\n",
       "    </tr>\n",
       "  </thead>\n",
       "  <tbody>\n",
       "    <tr>\n",
       "      <th>count</th>\n",
       "      <td>1.186000e+03</td>\n",
       "      <td>1186.000000</td>\n",
       "      <td>1184.000000</td>\n",
       "      <td>1184.000000</td>\n",
       "    </tr>\n",
       "    <tr>\n",
       "      <th>mean</th>\n",
       "      <td>1.058848e+07</td>\n",
       "      <td>41.447723</td>\n",
       "      <td>39.093750</td>\n",
       "      <td>52.125000</td>\n",
       "    </tr>\n",
       "    <tr>\n",
       "      <th>std</th>\n",
       "      <td>2.266001e+06</td>\n",
       "      <td>13.420347</td>\n",
       "      <td>12.460938</td>\n",
       "      <td>13.726562</td>\n",
       "    </tr>\n",
       "    <tr>\n",
       "      <th>min</th>\n",
       "      <td>6.043950e+05</td>\n",
       "      <td>18.000000</td>\n",
       "      <td>18.000000</td>\n",
       "      <td>23.000000</td>\n",
       "    </tr>\n",
       "    <tr>\n",
       "      <th>25%</th>\n",
       "      <td>1.109280e+07</td>\n",
       "      <td>31.000000</td>\n",
       "      <td>30.000000</td>\n",
       "      <td>43.000000</td>\n",
       "    </tr>\n",
       "    <tr>\n",
       "      <th>50%</th>\n",
       "      <td>1.165420e+07</td>\n",
       "      <td>41.000000</td>\n",
       "      <td>38.000000</td>\n",
       "      <td>51.000000</td>\n",
       "    </tr>\n",
       "    <tr>\n",
       "      <th>75%</th>\n",
       "      <td>1.172971e+07</td>\n",
       "      <td>52.000000</td>\n",
       "      <td>48.000000</td>\n",
       "      <td>61.000000</td>\n",
       "    </tr>\n",
       "    <tr>\n",
       "      <th>max</th>\n",
       "      <td>1.179003e+07</td>\n",
       "      <td>72.000000</td>\n",
       "      <td>70.000000</td>\n",
       "      <td>90.000000</td>\n",
       "    </tr>\n",
       "  </tbody>\n",
       "</table>\n",
       "</div>"
      ],
      "text/plain": [
       "                 id          age         from           to\n",
       "count  1.186000e+03  1186.000000  1184.000000  1184.000000\n",
       "mean   1.058848e+07    41.447723    39.093750    52.125000\n",
       "std    2.266001e+06    13.420347    12.460938    13.726562\n",
       "min    6.043950e+05    18.000000    18.000000    23.000000\n",
       "25%    1.109280e+07    31.000000    30.000000    43.000000\n",
       "50%    1.165420e+07    41.000000    38.000000    51.000000\n",
       "75%    1.172971e+07    52.000000    48.000000    61.000000\n",
       "max    1.179003e+07    72.000000    70.000000    90.000000"
      ]
     },
     "execution_count": 389,
     "metadata": {},
     "output_type": "execute_result"
    }
   ],
   "source": [
    "df.describe()"
   ]
  },
  {
   "cell_type": "code",
   "execution_count": 390,
   "id": "3ffbfba4",
   "metadata": {},
   "outputs": [
    {
     "data": {
      "text/plain": [
       "object     8\n",
       "float16    2\n",
       "int64      1\n",
       "int8       1\n",
       "dtype: int64"
      ]
     },
     "execution_count": 390,
     "metadata": {},
     "output_type": "execute_result"
    }
   ],
   "source": [
    "df.dtypes.value_counts()"
   ]
  },
  {
   "cell_type": "code",
   "execution_count": 391,
   "id": "fcf6d8be",
   "metadata": {},
   "outputs": [
    {
     "data": {
      "text/plain": [
       "14232"
      ]
     },
     "execution_count": 391,
     "metadata": {},
     "output_type": "execute_result"
    }
   ],
   "source": [
    "df.size"
   ]
  },
  {
   "cell_type": "code",
   "execution_count": 392,
   "id": "6c036d3b",
   "metadata": {},
   "outputs": [
    {
     "data": {
      "text/plain": [
       "(1186, 12)"
      ]
     },
     "execution_count": 392,
     "metadata": {},
     "output_type": "execute_result"
    }
   ],
   "source": [
    "df.shape"
   ]
  },
  {
   "cell_type": "markdown",
   "id": "b521bb68",
   "metadata": {},
   "source": [
    "<h1>LOC VS ILOC</h1>"
   ]
  },
  {
   "cell_type": "code",
   "execution_count": 393,
   "id": "f8c944ff",
   "metadata": {},
   "outputs": [
    {
     "data": {
      "text/html": [
       "<div>\n",
       "<style scoped>\n",
       "    .dataframe tbody tr th:only-of-type {\n",
       "        vertical-align: middle;\n",
       "    }\n",
       "\n",
       "    .dataframe tbody tr th {\n",
       "        vertical-align: top;\n",
       "    }\n",
       "\n",
       "    .dataframe thead th {\n",
       "        text-align: right;\n",
       "    }\n",
       "</style>\n",
       "<table border=\"1\" class=\"dataframe\">\n",
       "  <thead>\n",
       "    <tr style=\"text-align: right;\">\n",
       "      <th></th>\n",
       "      <th>id</th>\n",
       "      <th>name</th>\n",
       "      <th>age</th>\n",
       "      <th>z</th>\n",
       "      <th>city</th>\n",
       "      <th>country</th>\n",
       "      <th>from</th>\n",
       "      <th>to</th>\n",
       "      <th>interests</th>\n",
       "      <th>urls</th>\n",
       "      <th>last</th>\n",
       "      <th>prflink</th>\n",
       "    </tr>\n",
       "  </thead>\n",
       "  <tbody>\n",
       "    <tr>\n",
       "      <th>2</th>\n",
       "      <td>10193113</td>\n",
       "      <td>Светлана</td>\n",
       "      <td>53</td>\n",
       "      <td>Рак</td>\n",
       "      <td>Запорожье</td>\n",
       "      <td>Украина</td>\n",
       "      <td>40.0</td>\n",
       "      <td>61.0</td>\n",
       "      <td>дружба</td>\n",
       "      <td>https://ukrdate.net/photos/113/3113/10193113/y...</td>\n",
       "      <td>была час назад</td>\n",
       "      <td>https://ukrdate.net/u/ru9432768</td>\n",
       "    </tr>\n",
       "    <tr>\n",
       "      <th>3</th>\n",
       "      <td>9580194</td>\n",
       "      <td>Таня</td>\n",
       "      <td>40</td>\n",
       "      <td>Лев</td>\n",
       "      <td>Винница</td>\n",
       "      <td>Украина</td>\n",
       "      <td>40.0</td>\n",
       "      <td>50.0</td>\n",
       "      <td>дружба, любовь, брак</td>\n",
       "      <td>https://ukrdate.net/photos/194/194/9580194/clu...</td>\n",
       "      <td>была 5 часов назад</td>\n",
       "      <td>https://ukrdate.net/u/du5828766</td>\n",
       "    </tr>\n",
       "  </tbody>\n",
       "</table>\n",
       "</div>"
      ],
      "text/plain": [
       "         id      name  age    z       city  country  from    to  \\\n",
       "2  10193113  Светлана   53  Рак  Запорожье  Украина  40.0  61.0   \n",
       "3   9580194      Таня   40  Лев    Винница  Украина  40.0  50.0   \n",
       "\n",
       "              interests                                               urls  \\\n",
       "2                дружба  https://ukrdate.net/photos/113/3113/10193113/y...   \n",
       "3  дружба, любовь, брак  https://ukrdate.net/photos/194/194/9580194/clu...   \n",
       "\n",
       "                 last                          prflink  \n",
       "2      была час назад  https://ukrdate.net/u/ru9432768  \n",
       "3  была 5 часов назад  https://ukrdate.net/u/du5828766  "
      ]
     },
     "execution_count": 393,
     "metadata": {},
     "output_type": "execute_result"
    }
   ],
   "source": [
    "df.loc[[2, 3]]"
   ]
  },
  {
   "cell_type": "code",
   "execution_count": 394,
   "id": "e0d3c32a",
   "metadata": {},
   "outputs": [
    {
     "data": {
      "text/plain": [
       "id                                                     9580194\n",
       "name                                                      Таня\n",
       "age                                                         40\n",
       "z                                                          Лев\n",
       "city                                                   Винница\n",
       "country                                                Украина\n",
       "from                                                      40.0\n",
       "to                                                        50.0\n",
       "interests                                 дружба, любовь, брак\n",
       "urls         https://ukrdate.net/photos/194/194/9580194/clu...\n",
       "last                                        была 5 часов назад\n",
       "prflink                        https://ukrdate.net/u/du5828766\n",
       "Name: 3, dtype: object"
      ]
     },
     "execution_count": 394,
     "metadata": {},
     "output_type": "execute_result"
    }
   ],
   "source": [
    "df.loc[3]  # по индеску(может быть юбым)"
   ]
  },
  {
   "cell_type": "code",
   "execution_count": 395,
   "id": "41d89e61",
   "metadata": {},
   "outputs": [
    {
     "data": {
      "text/plain": [
       "id                                                     9580194\n",
       "name                                                      Таня\n",
       "age                                                         40\n",
       "z                                                          Лев\n",
       "city                                                   Винница\n",
       "country                                                Украина\n",
       "from                                                      40.0\n",
       "to                                                        50.0\n",
       "interests                                 дружба, любовь, брак\n",
       "urls         https://ukrdate.net/photos/194/194/9580194/clu...\n",
       "last                                        была 5 часов назад\n",
       "prflink                        https://ukrdate.net/u/du5828766\n",
       "Name: 3, dtype: object"
      ]
     },
     "execution_count": 395,
     "metadata": {},
     "output_type": "execute_result"
    }
   ],
   "source": [
    "df.iloc[3]  # по позиции"
   ]
  },
  {
   "cell_type": "code",
   "execution_count": 396,
   "id": "bf36bf80",
   "metadata": {},
   "outputs": [
    {
     "data": {
      "text/plain": [
       "id                                                    11601960\n",
       "name                                                     Елена\n",
       "age                                                         59\n",
       "z                                                          Лев\n",
       "city                                                  Николаев\n",
       "country                                                Украина\n",
       "from                                                      57.0\n",
       "to                                                        65.0\n",
       "interests                        дружба, любовь, брак, встреча\n",
       "urls         https://ukrdate.net/photos/160/1960/11601960/p...\n",
       "last                                         была 6 дней назад\n",
       "prflink                        https://ukrdate.net/u/ru7201876\n",
       "Name: 1185, dtype: object"
      ]
     },
     "execution_count": 396,
     "metadata": {},
     "output_type": "execute_result"
    }
   ],
   "source": [
    "df.iloc[-1]  # поселдняя строчка"
   ]
  },
  {
   "cell_type": "code",
   "execution_count": 397,
   "id": "0295e5fe",
   "metadata": {},
   "outputs": [
    {
     "data": {
      "text/html": [
       "<div>\n",
       "<style scoped>\n",
       "    .dataframe tbody tr th:only-of-type {\n",
       "        vertical-align: middle;\n",
       "    }\n",
       "\n",
       "    .dataframe tbody tr th {\n",
       "        vertical-align: top;\n",
       "    }\n",
       "\n",
       "    .dataframe thead th {\n",
       "        text-align: right;\n",
       "    }\n",
       "</style>\n",
       "<table border=\"1\" class=\"dataframe\">\n",
       "  <thead>\n",
       "    <tr style=\"text-align: right;\">\n",
       "      <th></th>\n",
       "      <th>age</th>\n",
       "      <th>last</th>\n",
       "    </tr>\n",
       "  </thead>\n",
       "  <tbody>\n",
       "    <tr>\n",
       "      <th>2</th>\n",
       "      <td>53</td>\n",
       "      <td>была час назад</td>\n",
       "    </tr>\n",
       "    <tr>\n",
       "      <th>3</th>\n",
       "      <td>40</td>\n",
       "      <td>была 5 часов назад</td>\n",
       "    </tr>\n",
       "    <tr>\n",
       "      <th>4</th>\n",
       "      <td>65</td>\n",
       "      <td>была 4 дня назад</td>\n",
       "    </tr>\n",
       "  </tbody>\n",
       "</table>\n",
       "</div>"
      ],
      "text/plain": [
       "   age                last\n",
       "2   53      была час назад\n",
       "3   40  была 5 часов назад\n",
       "4   65    была 4 дня назад"
      ]
     },
     "execution_count": 397,
     "metadata": {},
     "output_type": "execute_result"
    }
   ],
   "source": [
    "df.loc[2:4, [\"age\", \"last\"]]  # 2:4 - включительно"
   ]
  },
  {
   "cell_type": "code",
   "execution_count": 398,
   "id": "f5c9de25",
   "metadata": {},
   "outputs": [
    {
     "data": {
      "text/html": [
       "<div>\n",
       "<style scoped>\n",
       "    .dataframe tbody tr th:only-of-type {\n",
       "        vertical-align: middle;\n",
       "    }\n",
       "\n",
       "    .dataframe tbody tr th {\n",
       "        vertical-align: top;\n",
       "    }\n",
       "\n",
       "    .dataframe thead th {\n",
       "        text-align: right;\n",
       "    }\n",
       "</style>\n",
       "<table border=\"1\" class=\"dataframe\">\n",
       "  <thead>\n",
       "    <tr style=\"text-align: right;\">\n",
       "      <th></th>\n",
       "      <th>name</th>\n",
       "      <th>country</th>\n",
       "      <th>city</th>\n",
       "      <th>interests</th>\n",
       "      <th>age</th>\n",
       "    </tr>\n",
       "  </thead>\n",
       "  <tbody>\n",
       "    <tr>\n",
       "      <th>2</th>\n",
       "      <td>Светлана</td>\n",
       "      <td>Украина</td>\n",
       "      <td>Запорожье</td>\n",
       "      <td>дружба</td>\n",
       "      <td>53</td>\n",
       "    </tr>\n",
       "    <tr>\n",
       "      <th>3</th>\n",
       "      <td>Таня</td>\n",
       "      <td>Украина</td>\n",
       "      <td>Винница</td>\n",
       "      <td>дружба, любовь, брак</td>\n",
       "      <td>40</td>\n",
       "    </tr>\n",
       "  </tbody>\n",
       "</table>\n",
       "</div>"
      ],
      "text/plain": [
       "       name  country       city             interests  age\n",
       "2  Светлана  Украина  Запорожье                дружба   53\n",
       "3      Таня  Украина    Винница  дружба, любовь, брак   40"
      ]
     },
     "execution_count": 398,
     "metadata": {},
     "output_type": "execute_result"
    }
   ],
   "source": [
    "# в iloc не имя колонки а позиция\n",
    "df.iloc[2:4, [1, 5, 4, 8, 2]]  # 2:4 - исключительно"
   ]
  },
  {
   "cell_type": "code",
   "execution_count": 399,
   "id": "9d09a345",
   "metadata": {},
   "outputs": [],
   "source": [
    "df[\"added_column\"] = pd.Series([1, 2, 3], name=\"added_column\")"
   ]
  },
  {
   "cell_type": "code",
   "execution_count": 400,
   "id": "a0fcac5b",
   "metadata": {},
   "outputs": [
    {
     "data": {
      "text/html": [
       "<div>\n",
       "<style scoped>\n",
       "    .dataframe tbody tr th:only-of-type {\n",
       "        vertical-align: middle;\n",
       "    }\n",
       "\n",
       "    .dataframe tbody tr th {\n",
       "        vertical-align: top;\n",
       "    }\n",
       "\n",
       "    .dataframe thead th {\n",
       "        text-align: right;\n",
       "    }\n",
       "</style>\n",
       "<table border=\"1\" class=\"dataframe\">\n",
       "  <thead>\n",
       "    <tr style=\"text-align: right;\">\n",
       "      <th></th>\n",
       "      <th>id</th>\n",
       "      <th>name</th>\n",
       "      <th>age</th>\n",
       "      <th>z</th>\n",
       "      <th>city</th>\n",
       "      <th>country</th>\n",
       "      <th>from</th>\n",
       "      <th>to</th>\n",
       "      <th>interests</th>\n",
       "      <th>urls</th>\n",
       "      <th>last</th>\n",
       "      <th>prflink</th>\n",
       "      <th>added_column</th>\n",
       "    </tr>\n",
       "  </thead>\n",
       "  <tbody>\n",
       "    <tr>\n",
       "      <th>0</th>\n",
       "      <td>6168433</td>\n",
       "      <td>OLGA</td>\n",
       "      <td>52</td>\n",
       "      <td>Рыбы</td>\n",
       "      <td>Геническ</td>\n",
       "      <td>Украина</td>\n",
       "      <td>48.0</td>\n",
       "      <td>62.0</td>\n",
       "      <td>дружба, любовь, брак, встреча</td>\n",
       "      <td>https://ukrdate.net/photos/33/3433/6168433/oci...</td>\n",
       "      <td>NaN</td>\n",
       "      <td>https://ukrdate.net/u/uk5067609</td>\n",
       "      <td>1.0</td>\n",
       "    </tr>\n",
       "    <tr>\n",
       "      <th>1</th>\n",
       "      <td>11790031</td>\n",
       "      <td>Лия</td>\n",
       "      <td>60</td>\n",
       "      <td>Овен</td>\n",
       "      <td>Киев</td>\n",
       "      <td>Украина</td>\n",
       "      <td>58.0</td>\n",
       "      <td>66.0</td>\n",
       "      <td>дружба, любовь, брак, встреча</td>\n",
       "      <td>https://ukrdate.net/photos/31/31/11790031/viyk...</td>\n",
       "      <td>была позавчера</td>\n",
       "      <td>https://ukrdate.net/u/du8430249</td>\n",
       "      <td>2.0</td>\n",
       "    </tr>\n",
       "    <tr>\n",
       "      <th>2</th>\n",
       "      <td>10193113</td>\n",
       "      <td>Светлана</td>\n",
       "      <td>53</td>\n",
       "      <td>Рак</td>\n",
       "      <td>Запорожье</td>\n",
       "      <td>Украина</td>\n",
       "      <td>40.0</td>\n",
       "      <td>61.0</td>\n",
       "      <td>дружба</td>\n",
       "      <td>https://ukrdate.net/photos/113/3113/10193113/y...</td>\n",
       "      <td>была час назад</td>\n",
       "      <td>https://ukrdate.net/u/ru9432768</td>\n",
       "      <td>3.0</td>\n",
       "    </tr>\n",
       "    <tr>\n",
       "      <th>3</th>\n",
       "      <td>9580194</td>\n",
       "      <td>Таня</td>\n",
       "      <td>40</td>\n",
       "      <td>Лев</td>\n",
       "      <td>Винница</td>\n",
       "      <td>Украина</td>\n",
       "      <td>40.0</td>\n",
       "      <td>50.0</td>\n",
       "      <td>дружба, любовь, брак</td>\n",
       "      <td>https://ukrdate.net/photos/194/194/9580194/clu...</td>\n",
       "      <td>была 5 часов назад</td>\n",
       "      <td>https://ukrdate.net/u/du5828766</td>\n",
       "      <td>NaN</td>\n",
       "    </tr>\n",
       "    <tr>\n",
       "      <th>4</th>\n",
       "      <td>7178184</td>\n",
       "      <td>Светлана</td>\n",
       "      <td>65</td>\n",
       "      <td>Телец</td>\n",
       "      <td>Киев</td>\n",
       "      <td>Украина</td>\n",
       "      <td>61.0</td>\n",
       "      <td>69.0</td>\n",
       "      <td>дружба, любовь, брак, встреча</td>\n",
       "      <td>https://ukrdate.net/photos/184/3184/7178184/z6...</td>\n",
       "      <td>была 4 дня назад</td>\n",
       "      <td>https://ukrdate.net/u/ru2095789</td>\n",
       "      <td>NaN</td>\n",
       "    </tr>\n",
       "  </tbody>\n",
       "</table>\n",
       "</div>"
      ],
      "text/plain": [
       "         id      name  age      z       city  country  from    to  \\\n",
       "0   6168433      OLGA   52   Рыбы   Геническ  Украина  48.0  62.0   \n",
       "1  11790031       Лия   60   Овен       Киев  Украина  58.0  66.0   \n",
       "2  10193113  Светлана   53    Рак  Запорожье  Украина  40.0  61.0   \n",
       "3   9580194      Таня   40    Лев    Винница  Украина  40.0  50.0   \n",
       "4   7178184  Светлана   65  Телец       Киев  Украина  61.0  69.0   \n",
       "\n",
       "                       interests  \\\n",
       "0  дружба, любовь, брак, встреча   \n",
       "1  дружба, любовь, брак, встреча   \n",
       "2                         дружба   \n",
       "3           дружба, любовь, брак   \n",
       "4  дружба, любовь, брак, встреча   \n",
       "\n",
       "                                                urls                last  \\\n",
       "0  https://ukrdate.net/photos/33/3433/6168433/oci...                 NaN   \n",
       "1  https://ukrdate.net/photos/31/31/11790031/viyk...      была позавчера   \n",
       "2  https://ukrdate.net/photos/113/3113/10193113/y...      была час назад   \n",
       "3  https://ukrdate.net/photos/194/194/9580194/clu...  была 5 часов назад   \n",
       "4  https://ukrdate.net/photos/184/3184/7178184/z6...    была 4 дня назад   \n",
       "\n",
       "                           prflink  added_column  \n",
       "0  https://ukrdate.net/u/uk5067609           1.0  \n",
       "1  https://ukrdate.net/u/du8430249           2.0  \n",
       "2  https://ukrdate.net/u/ru9432768           3.0  \n",
       "3  https://ukrdate.net/u/du5828766           NaN  \n",
       "4  https://ukrdate.net/u/ru2095789           NaN  "
      ]
     },
     "execution_count": 400,
     "metadata": {},
     "output_type": "execute_result"
    }
   ],
   "source": [
    "df.head(5)"
   ]
  },
  {
   "cell_type": "code",
   "execution_count": 401,
   "id": "c5d8999a",
   "metadata": {},
   "outputs": [],
   "source": [
    "df[\"added_column\"] = \"h\" # добавляет в каждую строку"
   ]
  },
  {
   "cell_type": "code",
   "execution_count": 402,
   "id": "7ecc0a15",
   "metadata": {},
   "outputs": [
    {
     "data": {
      "text/html": [
       "<div>\n",
       "<style scoped>\n",
       "    .dataframe tbody tr th:only-of-type {\n",
       "        vertical-align: middle;\n",
       "    }\n",
       "\n",
       "    .dataframe tbody tr th {\n",
       "        vertical-align: top;\n",
       "    }\n",
       "\n",
       "    .dataframe thead th {\n",
       "        text-align: right;\n",
       "    }\n",
       "</style>\n",
       "<table border=\"1\" class=\"dataframe\">\n",
       "  <thead>\n",
       "    <tr style=\"text-align: right;\">\n",
       "      <th></th>\n",
       "      <th>id</th>\n",
       "      <th>name</th>\n",
       "      <th>age</th>\n",
       "      <th>z</th>\n",
       "      <th>city</th>\n",
       "      <th>country</th>\n",
       "      <th>from</th>\n",
       "      <th>to</th>\n",
       "      <th>interests</th>\n",
       "      <th>urls</th>\n",
       "      <th>last</th>\n",
       "      <th>prflink</th>\n",
       "      <th>added_column</th>\n",
       "    </tr>\n",
       "  </thead>\n",
       "  <tbody>\n",
       "    <tr>\n",
       "      <th>0</th>\n",
       "      <td>6168433</td>\n",
       "      <td>OLGA</td>\n",
       "      <td>52</td>\n",
       "      <td>Рыбы</td>\n",
       "      <td>Геническ</td>\n",
       "      <td>Украина</td>\n",
       "      <td>48.0</td>\n",
       "      <td>62.0</td>\n",
       "      <td>дружба, любовь, брак, встреча</td>\n",
       "      <td>https://ukrdate.net/photos/33/3433/6168433/oci...</td>\n",
       "      <td>NaN</td>\n",
       "      <td>https://ukrdate.net/u/uk5067609</td>\n",
       "      <td>h</td>\n",
       "    </tr>\n",
       "    <tr>\n",
       "      <th>1</th>\n",
       "      <td>11790031</td>\n",
       "      <td>Лия</td>\n",
       "      <td>60</td>\n",
       "      <td>Овен</td>\n",
       "      <td>Киев</td>\n",
       "      <td>Украина</td>\n",
       "      <td>58.0</td>\n",
       "      <td>66.0</td>\n",
       "      <td>дружба, любовь, брак, встреча</td>\n",
       "      <td>https://ukrdate.net/photos/31/31/11790031/viyk...</td>\n",
       "      <td>была позавчера</td>\n",
       "      <td>https://ukrdate.net/u/du8430249</td>\n",
       "      <td>h</td>\n",
       "    </tr>\n",
       "  </tbody>\n",
       "</table>\n",
       "</div>"
      ],
      "text/plain": [
       "         id  name  age     z      city  country  from    to  \\\n",
       "0   6168433  OLGA   52  Рыбы  Геническ  Украина  48.0  62.0   \n",
       "1  11790031   Лия   60  Овен      Киев  Украина  58.0  66.0   \n",
       "\n",
       "                       interests  \\\n",
       "0  дружба, любовь, брак, встреча   \n",
       "1  дружба, любовь, брак, встреча   \n",
       "\n",
       "                                                urls            last  \\\n",
       "0  https://ukrdate.net/photos/33/3433/6168433/oci...             NaN   \n",
       "1  https://ukrdate.net/photos/31/31/11790031/viyk...  была позавчера   \n",
       "\n",
       "                           prflink added_column  \n",
       "0  https://ukrdate.net/u/uk5067609            h  \n",
       "1  https://ukrdate.net/u/du8430249            h  "
      ]
     },
     "execution_count": 402,
     "metadata": {},
     "output_type": "execute_result"
    }
   ],
   "source": [
    "df.head(2)"
   ]
  },
  {
   "cell_type": "code",
   "execution_count": 403,
   "id": "117de7b9",
   "metadata": {},
   "outputs": [],
   "source": [
    "df[\"multiplaied\"] = df[\"age\"] * df[\"to\"]"
   ]
  },
  {
   "cell_type": "code",
   "execution_count": 404,
   "id": "868f985e",
   "metadata": {},
   "outputs": [
    {
     "data": {
      "text/html": [
       "<div>\n",
       "<style scoped>\n",
       "    .dataframe tbody tr th:only-of-type {\n",
       "        vertical-align: middle;\n",
       "    }\n",
       "\n",
       "    .dataframe tbody tr th {\n",
       "        vertical-align: top;\n",
       "    }\n",
       "\n",
       "    .dataframe thead th {\n",
       "        text-align: right;\n",
       "    }\n",
       "</style>\n",
       "<table border=\"1\" class=\"dataframe\">\n",
       "  <thead>\n",
       "    <tr style=\"text-align: right;\">\n",
       "      <th></th>\n",
       "      <th>id</th>\n",
       "      <th>name</th>\n",
       "      <th>age</th>\n",
       "      <th>z</th>\n",
       "      <th>city</th>\n",
       "      <th>country</th>\n",
       "      <th>from</th>\n",
       "      <th>to</th>\n",
       "      <th>interests</th>\n",
       "      <th>urls</th>\n",
       "      <th>last</th>\n",
       "      <th>prflink</th>\n",
       "      <th>added_column</th>\n",
       "      <th>multiplaied</th>\n",
       "    </tr>\n",
       "  </thead>\n",
       "  <tbody>\n",
       "    <tr>\n",
       "      <th>0</th>\n",
       "      <td>6168433</td>\n",
       "      <td>OLGA</td>\n",
       "      <td>52</td>\n",
       "      <td>Рыбы</td>\n",
       "      <td>Геническ</td>\n",
       "      <td>Украина</td>\n",
       "      <td>48.0</td>\n",
       "      <td>62.0</td>\n",
       "      <td>дружба, любовь, брак, встреча</td>\n",
       "      <td>https://ukrdate.net/photos/33/3433/6168433/oci...</td>\n",
       "      <td>NaN</td>\n",
       "      <td>https://ukrdate.net/u/uk5067609</td>\n",
       "      <td>h</td>\n",
       "      <td>3224.0</td>\n",
       "    </tr>\n",
       "    <tr>\n",
       "      <th>1</th>\n",
       "      <td>11790031</td>\n",
       "      <td>Лия</td>\n",
       "      <td>60</td>\n",
       "      <td>Овен</td>\n",
       "      <td>Киев</td>\n",
       "      <td>Украина</td>\n",
       "      <td>58.0</td>\n",
       "      <td>66.0</td>\n",
       "      <td>дружба, любовь, брак, встреча</td>\n",
       "      <td>https://ukrdate.net/photos/31/31/11790031/viyk...</td>\n",
       "      <td>была позавчера</td>\n",
       "      <td>https://ukrdate.net/u/du8430249</td>\n",
       "      <td>h</td>\n",
       "      <td>3960.0</td>\n",
       "    </tr>\n",
       "    <tr>\n",
       "      <th>2</th>\n",
       "      <td>10193113</td>\n",
       "      <td>Светлана</td>\n",
       "      <td>53</td>\n",
       "      <td>Рак</td>\n",
       "      <td>Запорожье</td>\n",
       "      <td>Украина</td>\n",
       "      <td>40.0</td>\n",
       "      <td>61.0</td>\n",
       "      <td>дружба</td>\n",
       "      <td>https://ukrdate.net/photos/113/3113/10193113/y...</td>\n",
       "      <td>была час назад</td>\n",
       "      <td>https://ukrdate.net/u/ru9432768</td>\n",
       "      <td>h</td>\n",
       "      <td>3232.0</td>\n",
       "    </tr>\n",
       "    <tr>\n",
       "      <th>3</th>\n",
       "      <td>9580194</td>\n",
       "      <td>Таня</td>\n",
       "      <td>40</td>\n",
       "      <td>Лев</td>\n",
       "      <td>Винница</td>\n",
       "      <td>Украина</td>\n",
       "      <td>40.0</td>\n",
       "      <td>50.0</td>\n",
       "      <td>дружба, любовь, брак</td>\n",
       "      <td>https://ukrdate.net/photos/194/194/9580194/clu...</td>\n",
       "      <td>была 5 часов назад</td>\n",
       "      <td>https://ukrdate.net/u/du5828766</td>\n",
       "      <td>h</td>\n",
       "      <td>2000.0</td>\n",
       "    </tr>\n",
       "    <tr>\n",
       "      <th>4</th>\n",
       "      <td>7178184</td>\n",
       "      <td>Светлана</td>\n",
       "      <td>65</td>\n",
       "      <td>Телец</td>\n",
       "      <td>Киев</td>\n",
       "      <td>Украина</td>\n",
       "      <td>61.0</td>\n",
       "      <td>69.0</td>\n",
       "      <td>дружба, любовь, брак, встреча</td>\n",
       "      <td>https://ukrdate.net/photos/184/3184/7178184/z6...</td>\n",
       "      <td>была 4 дня назад</td>\n",
       "      <td>https://ukrdate.net/u/ru2095789</td>\n",
       "      <td>h</td>\n",
       "      <td>4484.0</td>\n",
       "    </tr>\n",
       "  </tbody>\n",
       "</table>\n",
       "</div>"
      ],
      "text/plain": [
       "         id      name  age      z       city  country  from    to  \\\n",
       "0   6168433      OLGA   52   Рыбы   Геническ  Украина  48.0  62.0   \n",
       "1  11790031       Лия   60   Овен       Киев  Украина  58.0  66.0   \n",
       "2  10193113  Светлана   53    Рак  Запорожье  Украина  40.0  61.0   \n",
       "3   9580194      Таня   40    Лев    Винница  Украина  40.0  50.0   \n",
       "4   7178184  Светлана   65  Телец       Киев  Украина  61.0  69.0   \n",
       "\n",
       "                       interests  \\\n",
       "0  дружба, любовь, брак, встреча   \n",
       "1  дружба, любовь, брак, встреча   \n",
       "2                         дружба   \n",
       "3           дружба, любовь, брак   \n",
       "4  дружба, любовь, брак, встреча   \n",
       "\n",
       "                                                urls                last  \\\n",
       "0  https://ukrdate.net/photos/33/3433/6168433/oci...                 NaN   \n",
       "1  https://ukrdate.net/photos/31/31/11790031/viyk...      была позавчера   \n",
       "2  https://ukrdate.net/photos/113/3113/10193113/y...      была час назад   \n",
       "3  https://ukrdate.net/photos/194/194/9580194/clu...  была 5 часов назад   \n",
       "4  https://ukrdate.net/photos/184/3184/7178184/z6...    была 4 дня назад   \n",
       "\n",
       "                           prflink added_column  multiplaied  \n",
       "0  https://ukrdate.net/u/uk5067609            h       3224.0  \n",
       "1  https://ukrdate.net/u/du8430249            h       3960.0  \n",
       "2  https://ukrdate.net/u/ru9432768            h       3232.0  \n",
       "3  https://ukrdate.net/u/du5828766            h       2000.0  \n",
       "4  https://ukrdate.net/u/ru2095789            h       4484.0  "
      ]
     },
     "execution_count": 404,
     "metadata": {},
     "output_type": "execute_result"
    }
   ],
   "source": [
    "df.head(5)"
   ]
  },
  {
   "cell_type": "code",
   "execution_count": null,
   "id": "c62037c7",
   "metadata": {},
   "outputs": [],
   "source": []
  },
  {
   "cell_type": "code",
   "execution_count": 405,
   "id": "4fa6cd74",
   "metadata": {},
   "outputs": [
    {
     "data": {
      "text/html": [
       "<div>\n",
       "<style scoped>\n",
       "    .dataframe tbody tr th:only-of-type {\n",
       "        vertical-align: middle;\n",
       "    }\n",
       "\n",
       "    .dataframe tbody tr th {\n",
       "        vertical-align: top;\n",
       "    }\n",
       "\n",
       "    .dataframe thead th {\n",
       "        text-align: right;\n",
       "    }\n",
       "</style>\n",
       "<table border=\"1\" class=\"dataframe\">\n",
       "  <thead>\n",
       "    <tr style=\"text-align: right;\">\n",
       "      <th></th>\n",
       "      <th>id</th>\n",
       "      <th>name</th>\n",
       "      <th>age</th>\n",
       "      <th>z</th>\n",
       "      <th>city</th>\n",
       "      <th>country</th>\n",
       "      <th>from</th>\n",
       "      <th>to</th>\n",
       "      <th>interests</th>\n",
       "      <th>urls</th>\n",
       "      <th>last</th>\n",
       "      <th>prflink</th>\n",
       "      <th>added_column</th>\n",
       "      <th>multiplaied</th>\n",
       "    </tr>\n",
       "  </thead>\n",
       "  <tbody>\n",
       "    <tr>\n",
       "      <th>0</th>\n",
       "      <td>6168433</td>\n",
       "      <td>OLGA</td>\n",
       "      <td>52</td>\n",
       "      <td>Рыбы</td>\n",
       "      <td>Геническ</td>\n",
       "      <td>Украина</td>\n",
       "      <td>48.0</td>\n",
       "      <td>62.0</td>\n",
       "      <td>дружба, любовь, брак, встреча</td>\n",
       "      <td>https://ukrdate.net/photos/33/3433/6168433/oci...</td>\n",
       "      <td>NaN</td>\n",
       "      <td>https://ukrdate.net/u/uk5067609</td>\n",
       "      <td>h</td>\n",
       "      <td>3224.0</td>\n",
       "    </tr>\n",
       "    <tr>\n",
       "      <th>1</th>\n",
       "      <td>11790031</td>\n",
       "      <td>Лия</td>\n",
       "      <td>60</td>\n",
       "      <td>Овен</td>\n",
       "      <td>Киев</td>\n",
       "      <td>Украина</td>\n",
       "      <td>58.0</td>\n",
       "      <td>66.0</td>\n",
       "      <td>дружба, любовь, брак, встреча</td>\n",
       "      <td>https://ukrdate.net/photos/31/31/11790031/viyk...</td>\n",
       "      <td>была позавчера</td>\n",
       "      <td>https://ukrdate.net/u/du8430249</td>\n",
       "      <td>h</td>\n",
       "      <td>3960.0</td>\n",
       "    </tr>\n",
       "  </tbody>\n",
       "</table>\n",
       "</div>"
      ],
      "text/plain": [
       "         id  name  age     z      city  country  from    to  \\\n",
       "0   6168433  OLGA   52  Рыбы  Геническ  Украина  48.0  62.0   \n",
       "1  11790031   Лия   60  Овен      Киев  Украина  58.0  66.0   \n",
       "\n",
       "                       interests  \\\n",
       "0  дружба, любовь, брак, встреча   \n",
       "1  дружба, любовь, брак, встреча   \n",
       "\n",
       "                                                urls            last  \\\n",
       "0  https://ukrdate.net/photos/33/3433/6168433/oci...             NaN   \n",
       "1  https://ukrdate.net/photos/31/31/11790031/viyk...  была позавчера   \n",
       "\n",
       "                           prflink added_column  multiplaied  \n",
       "0  https://ukrdate.net/u/uk5067609            h       3224.0  \n",
       "1  https://ukrdate.net/u/du8430249            h       3960.0  "
      ]
     },
     "execution_count": 405,
     "metadata": {},
     "output_type": "execute_result"
    }
   ],
   "source": [
    "# df = df.drop(columns=[\"added_column\", \"multiplaied\"])  # delete unnesessary columns\n",
    "df.head(2)"
   ]
  },
  {
   "cell_type": "code",
   "execution_count": 406,
   "id": "812f3a1d",
   "metadata": {},
   "outputs": [
    {
     "data": {
      "text/html": [
       "<div>\n",
       "<style scoped>\n",
       "    .dataframe tbody tr th:only-of-type {\n",
       "        vertical-align: middle;\n",
       "    }\n",
       "\n",
       "    .dataframe tbody tr th {\n",
       "        vertical-align: top;\n",
       "    }\n",
       "\n",
       "    .dataframe thead th {\n",
       "        text-align: right;\n",
       "    }\n",
       "</style>\n",
       "<table border=\"1\" class=\"dataframe\">\n",
       "  <thead>\n",
       "    <tr style=\"text-align: right;\">\n",
       "      <th></th>\n",
       "      <th>id</th>\n",
       "      <th>name</th>\n",
       "      <th>age</th>\n",
       "      <th>zodiac</th>\n",
       "      <th>city</th>\n",
       "      <th>country</th>\n",
       "      <th>from</th>\n",
       "      <th>to</th>\n",
       "      <th>interests</th>\n",
       "      <th>urls</th>\n",
       "      <th>last</th>\n",
       "      <th>prflink</th>\n",
       "      <th>added_column</th>\n",
       "      <th>multiplaied</th>\n",
       "    </tr>\n",
       "  </thead>\n",
       "  <tbody>\n",
       "    <tr>\n",
       "      <th>0</th>\n",
       "      <td>6168433</td>\n",
       "      <td>OLGA</td>\n",
       "      <td>52</td>\n",
       "      <td>Рыбы</td>\n",
       "      <td>Геническ</td>\n",
       "      <td>Украина</td>\n",
       "      <td>48.0</td>\n",
       "      <td>62.0</td>\n",
       "      <td>дружба, любовь, брак, встреча</td>\n",
       "      <td>https://ukrdate.net/photos/33/3433/6168433/oci...</td>\n",
       "      <td>NaN</td>\n",
       "      <td>https://ukrdate.net/u/uk5067609</td>\n",
       "      <td>h</td>\n",
       "      <td>3224.0</td>\n",
       "    </tr>\n",
       "  </tbody>\n",
       "</table>\n",
       "</div>"
      ],
      "text/plain": [
       "        id  name  age zodiac      city  country  from    to  \\\n",
       "0  6168433  OLGA   52   Рыбы  Геническ  Украина  48.0  62.0   \n",
       "\n",
       "                       interests  \\\n",
       "0  дружба, любовь, брак, встреча   \n",
       "\n",
       "                                                urls last  \\\n",
       "0  https://ukrdate.net/photos/33/3433/6168433/oci...  NaN   \n",
       "\n",
       "                           prflink added_column  multiplaied  \n",
       "0  https://ukrdate.net/u/uk5067609            h       3224.0  "
      ]
     },
     "execution_count": 406,
     "metadata": {},
     "output_type": "execute_result"
    }
   ],
   "source": [
    "df = df.rename(columns={\"z\": \"zodiac\"})\n",
    "df.head(1)"
   ]
  },
  {
   "cell_type": "code",
   "execution_count": 409,
   "id": "9b2b0969",
   "metadata": {},
   "outputs": [
    {
     "data": {
      "text/plain": [
       "Index(['id', 'name', 'age', 'zodiac', 'city', 'country', 'from', 'to',\n",
       "       'interests', 'urls', 'last', 'prflink', 'added_column', 'multiplaied'],\n",
       "      dtype='object')"
      ]
     },
     "execution_count": 409,
     "metadata": {},
     "output_type": "execute_result"
    }
   ],
   "source": [
    "df.columns"
   ]
  },
  {
   "cell_type": "code",
   "execution_count": 410,
   "id": "d1c562be",
   "metadata": {},
   "outputs": [],
   "source": [
    "df[\"Data\"] = \"01.01.2022\""
   ]
  },
  {
   "cell_type": "code",
   "execution_count": 411,
   "id": "67f86998",
   "metadata": {},
   "outputs": [],
   "source": [
    "df[\"Data\"] = pd.to_datetime(df[\"Data\"])"
   ]
  },
  {
   "cell_type": "code",
   "execution_count": 413,
   "id": "8691dfee",
   "metadata": {},
   "outputs": [
    {
     "data": {
      "text/html": [
       "<div>\n",
       "<style scoped>\n",
       "    .dataframe tbody tr th:only-of-type {\n",
       "        vertical-align: middle;\n",
       "    }\n",
       "\n",
       "    .dataframe tbody tr th {\n",
       "        vertical-align: top;\n",
       "    }\n",
       "\n",
       "    .dataframe thead th {\n",
       "        text-align: right;\n",
       "    }\n",
       "</style>\n",
       "<table border=\"1\" class=\"dataframe\">\n",
       "  <thead>\n",
       "    <tr style=\"text-align: right;\">\n",
       "      <th></th>\n",
       "      <th>id</th>\n",
       "      <th>name</th>\n",
       "      <th>age</th>\n",
       "      <th>zodiac</th>\n",
       "      <th>city</th>\n",
       "      <th>country</th>\n",
       "      <th>from</th>\n",
       "      <th>to</th>\n",
       "      <th>interests</th>\n",
       "      <th>urls</th>\n",
       "      <th>last</th>\n",
       "      <th>prflink</th>\n",
       "      <th>added_column</th>\n",
       "      <th>multiplaied</th>\n",
       "      <th>Data</th>\n",
       "    </tr>\n",
       "  </thead>\n",
       "  <tbody>\n",
       "    <tr>\n",
       "      <th>0</th>\n",
       "      <td>6168433</td>\n",
       "      <td>OLGA</td>\n",
       "      <td>52</td>\n",
       "      <td>Рыбы</td>\n",
       "      <td>Геническ</td>\n",
       "      <td>Украина</td>\n",
       "      <td>48.0</td>\n",
       "      <td>62.0</td>\n",
       "      <td>дружба, любовь, брак, встреча</td>\n",
       "      <td>https://ukrdate.net/photos/33/3433/6168433/oci...</td>\n",
       "      <td>NaN</td>\n",
       "      <td>https://ukrdate.net/u/uk5067609</td>\n",
       "      <td>h</td>\n",
       "      <td>3224.0</td>\n",
       "      <td>2022-01-01</td>\n",
       "    </tr>\n",
       "  </tbody>\n",
       "</table>\n",
       "</div>"
      ],
      "text/plain": [
       "        id  name  age zodiac      city  country  from    to  \\\n",
       "0  6168433  OLGA   52   Рыбы  Геническ  Украина  48.0  62.0   \n",
       "\n",
       "                       interests  \\\n",
       "0  дружба, любовь, брак, встреча   \n",
       "\n",
       "                                                urls last  \\\n",
       "0  https://ukrdate.net/photos/33/3433/6168433/oci...  NaN   \n",
       "\n",
       "                           prflink added_column  multiplaied       Data  \n",
       "0  https://ukrdate.net/u/uk5067609            h       3224.0 2022-01-01  "
      ]
     },
     "execution_count": 413,
     "metadata": {},
     "output_type": "execute_result"
    }
   ],
   "source": [
    "df.head(1)"
   ]
  },
  {
   "cell_type": "code",
   "execution_count": 420,
   "id": "c64e9380",
   "metadata": {},
   "outputs": [
    {
     "data": {
      "text/plain": [
       "id                       int64\n",
       "name                    object\n",
       "age                       int8\n",
       "zodiac                  object\n",
       "city                    object\n",
       "country                 object\n",
       "from                   float16\n",
       "to                     float16\n",
       "interests               object\n",
       "urls                    object\n",
       "last                    object\n",
       "prflink                 object\n",
       "added_column            object\n",
       "multiplaied            float16\n",
       "Data            datetime64[ns]\n",
       "dtype: object"
      ]
     },
     "execution_count": 420,
     "metadata": {},
     "output_type": "execute_result"
    }
   ],
   "source": [
    "df.dtypes"
   ]
  },
  {
   "cell_type": "code",
   "execution_count": 426,
   "id": "7a784e25",
   "metadata": {},
   "outputs": [
    {
     "data": {
      "text/html": [
       "<div>\n",
       "<style scoped>\n",
       "    .dataframe tbody tr th:only-of-type {\n",
       "        vertical-align: middle;\n",
       "    }\n",
       "\n",
       "    .dataframe tbody tr th {\n",
       "        vertical-align: top;\n",
       "    }\n",
       "\n",
       "    .dataframe thead th {\n",
       "        text-align: right;\n",
       "    }\n",
       "</style>\n",
       "<table border=\"1\" class=\"dataframe\">\n",
       "  <thead>\n",
       "    <tr style=\"text-align: right;\">\n",
       "      <th></th>\n",
       "      <th>id</th>\n",
       "      <th>name</th>\n",
       "      <th>age</th>\n",
       "      <th>zodiac</th>\n",
       "      <th>city</th>\n",
       "      <th>country</th>\n",
       "      <th>from</th>\n",
       "      <th>to</th>\n",
       "      <th>interests</th>\n",
       "      <th>urls</th>\n",
       "      <th>last</th>\n",
       "      <th>prflink</th>\n",
       "      <th>added_column</th>\n",
       "      <th>multiplaied</th>\n",
       "      <th>Data</th>\n",
       "    </tr>\n",
       "  </thead>\n",
       "  <tbody>\n",
       "    <tr>\n",
       "      <th>0</th>\n",
       "      <td>6168433</td>\n",
       "      <td>OLGA</td>\n",
       "      <td>52</td>\n",
       "      <td>Рыбы</td>\n",
       "      <td>Геническ</td>\n",
       "      <td>Украина</td>\n",
       "      <td>48.0</td>\n",
       "      <td>62.0</td>\n",
       "      <td>дружба, любовь, брак, встреча</td>\n",
       "      <td>https://ukrdate.net/photos/33/3433/6168433/oci...</td>\n",
       "      <td>NaN</td>\n",
       "      <td>https://ukrdate.net/u/uk5067609</td>\n",
       "      <td>h</td>\n",
       "      <td>3224.0</td>\n",
       "      <td>2022-01-01</td>\n",
       "    </tr>\n",
       "    <tr>\n",
       "      <th>1</th>\n",
       "      <td>11790031</td>\n",
       "      <td>Лия</td>\n",
       "      <td>60</td>\n",
       "      <td>Овен</td>\n",
       "      <td>Киев</td>\n",
       "      <td>Украина</td>\n",
       "      <td>58.0</td>\n",
       "      <td>66.0</td>\n",
       "      <td>дружба, любовь, брак, встреча</td>\n",
       "      <td>https://ukrdate.net/photos/31/31/11790031/viyk...</td>\n",
       "      <td>была позавчера</td>\n",
       "      <td>https://ukrdate.net/u/du8430249</td>\n",
       "      <td>h</td>\n",
       "      <td>3960.0</td>\n",
       "      <td>2022-01-01</td>\n",
       "    </tr>\n",
       "    <tr>\n",
       "      <th>2</th>\n",
       "      <td>10193113</td>\n",
       "      <td>Светлана</td>\n",
       "      <td>53</td>\n",
       "      <td>Рак</td>\n",
       "      <td>Запорожье</td>\n",
       "      <td>Украина</td>\n",
       "      <td>40.0</td>\n",
       "      <td>61.0</td>\n",
       "      <td>дружба</td>\n",
       "      <td>https://ukrdate.net/photos/113/3113/10193113/y...</td>\n",
       "      <td>была час назад</td>\n",
       "      <td>https://ukrdate.net/u/ru9432768</td>\n",
       "      <td>h</td>\n",
       "      <td>3232.0</td>\n",
       "      <td>2022-01-01</td>\n",
       "    </tr>\n",
       "    <tr>\n",
       "      <th>3</th>\n",
       "      <td>9580194</td>\n",
       "      <td>Таня</td>\n",
       "      <td>40</td>\n",
       "      <td>Лев</td>\n",
       "      <td>Винница</td>\n",
       "      <td>Украина</td>\n",
       "      <td>40.0</td>\n",
       "      <td>50.0</td>\n",
       "      <td>дружба, любовь, брак</td>\n",
       "      <td>https://ukrdate.net/photos/194/194/9580194/clu...</td>\n",
       "      <td>была 5 часов назад</td>\n",
       "      <td>https://ukrdate.net/u/du5828766</td>\n",
       "      <td>h</td>\n",
       "      <td>2000.0</td>\n",
       "      <td>2022-01-01</td>\n",
       "    </tr>\n",
       "    <tr>\n",
       "      <th>4</th>\n",
       "      <td>7178184</td>\n",
       "      <td>Светлана</td>\n",
       "      <td>65</td>\n",
       "      <td>Телец</td>\n",
       "      <td>Киев</td>\n",
       "      <td>Украина</td>\n",
       "      <td>61.0</td>\n",
       "      <td>69.0</td>\n",
       "      <td>дружба, любовь, брак, встреча</td>\n",
       "      <td>https://ukrdate.net/photos/184/3184/7178184/z6...</td>\n",
       "      <td>была 4 дня назад</td>\n",
       "      <td>https://ukrdate.net/u/ru2095789</td>\n",
       "      <td>h</td>\n",
       "      <td>4484.0</td>\n",
       "      <td>2022-01-01</td>\n",
       "    </tr>\n",
       "  </tbody>\n",
       "</table>\n",
       "</div>"
      ],
      "text/plain": [
       "         id      name  age zodiac       city  country  from    to  \\\n",
       "0   6168433      OLGA   52   Рыбы   Геническ  Украина  48.0  62.0   \n",
       "1  11790031       Лия   60   Овен       Киев  Украина  58.0  66.0   \n",
       "2  10193113  Светлана   53    Рак  Запорожье  Украина  40.0  61.0   \n",
       "3   9580194      Таня   40    Лев    Винница  Украина  40.0  50.0   \n",
       "4   7178184  Светлана   65  Телец       Киев  Украина  61.0  69.0   \n",
       "\n",
       "                       interests  \\\n",
       "0  дружба, любовь, брак, встреча   \n",
       "1  дружба, любовь, брак, встреча   \n",
       "2                         дружба   \n",
       "3           дружба, любовь, брак   \n",
       "4  дружба, любовь, брак, встреча   \n",
       "\n",
       "                                                urls                last  \\\n",
       "0  https://ukrdate.net/photos/33/3433/6168433/oci...                 NaN   \n",
       "1  https://ukrdate.net/photos/31/31/11790031/viyk...      была позавчера   \n",
       "2  https://ukrdate.net/photos/113/3113/10193113/y...      была час назад   \n",
       "3  https://ukrdate.net/photos/194/194/9580194/clu...  была 5 часов назад   \n",
       "4  https://ukrdate.net/photos/184/3184/7178184/z6...    была 4 дня назад   \n",
       "\n",
       "                           prflink added_column  multiplaied       Data  \n",
       "0  https://ukrdate.net/u/uk5067609            h       3224.0 2022-01-01  \n",
       "1  https://ukrdate.net/u/du8430249            h       3960.0 2022-01-01  \n",
       "2  https://ukrdate.net/u/ru9432768            h       3232.0 2022-01-01  \n",
       "3  https://ukrdate.net/u/du5828766            h       2000.0 2022-01-01  \n",
       "4  https://ukrdate.net/u/ru2095789            h       4484.0 2022-01-01  "
      ]
     },
     "execution_count": 426,
     "metadata": {},
     "output_type": "execute_result"
    }
   ],
   "source": [
    "df.set_index(\"name\", inplace=False)  # поменять существующий датарейм - тру иначе копия\n",
    "df.sort_index(inplace=False)\n",
    "df.head(5)"
   ]
  },
  {
   "cell_type": "markdown",
   "id": "c419c22c",
   "metadata": {},
   "source": [
    " <h1 style=\"color:red;\">Correlational analysis</h1> - определение связаны ли выранные значения в колонках или нет"
   ]
  },
  {
   "cell_type": "code",
   "execution_count": 435,
   "id": "058d07ab",
   "metadata": {},
   "outputs": [
    {
     "data": {
      "text/html": [
       "<div>\n",
       "<style scoped>\n",
       "    .dataframe tbody tr th:only-of-type {\n",
       "        vertical-align: middle;\n",
       "    }\n",
       "\n",
       "    .dataframe tbody tr th {\n",
       "        vertical-align: top;\n",
       "    }\n",
       "\n",
       "    .dataframe thead th {\n",
       "        text-align: right;\n",
       "    }\n",
       "</style>\n",
       "<table border=\"1\" class=\"dataframe\">\n",
       "  <thead>\n",
       "    <tr style=\"text-align: right;\">\n",
       "      <th></th>\n",
       "      <th>id</th>\n",
       "      <th>age</th>\n",
       "      <th>from</th>\n",
       "      <th>to</th>\n",
       "      <th>multiplaied</th>\n",
       "    </tr>\n",
       "  </thead>\n",
       "  <tbody>\n",
       "    <tr>\n",
       "      <th>id</th>\n",
       "      <td>1.000000</td>\n",
       "      <td>-0.249360</td>\n",
       "      <td>-0.178719</td>\n",
       "      <td>-0.141446</td>\n",
       "      <td>-0.216547</td>\n",
       "    </tr>\n",
       "    <tr>\n",
       "      <th>age</th>\n",
       "      <td>-0.249360</td>\n",
       "      <td>1.000000</td>\n",
       "      <td>0.939460</td>\n",
       "      <td>0.696902</td>\n",
       "      <td>0.949264</td>\n",
       "    </tr>\n",
       "    <tr>\n",
       "      <th>from</th>\n",
       "      <td>-0.178719</td>\n",
       "      <td>0.939460</td>\n",
       "      <td>1.000000</td>\n",
       "      <td>0.737597</td>\n",
       "      <td>0.929561</td>\n",
       "    </tr>\n",
       "    <tr>\n",
       "      <th>to</th>\n",
       "      <td>-0.141446</td>\n",
       "      <td>0.696902</td>\n",
       "      <td>0.737597</td>\n",
       "      <td>1.000000</td>\n",
       "      <td>0.857632</td>\n",
       "    </tr>\n",
       "    <tr>\n",
       "      <th>multiplaied</th>\n",
       "      <td>-0.216547</td>\n",
       "      <td>0.949264</td>\n",
       "      <td>0.929561</td>\n",
       "      <td>0.857632</td>\n",
       "      <td>1.000000</td>\n",
       "    </tr>\n",
       "  </tbody>\n",
       "</table>\n",
       "</div>"
      ],
      "text/plain": [
       "                   id       age      from        to  multiplaied\n",
       "id           1.000000 -0.249360 -0.178719 -0.141446    -0.216547\n",
       "age         -0.249360  1.000000  0.939460  0.696902     0.949264\n",
       "from        -0.178719  0.939460  1.000000  0.737597     0.929561\n",
       "to          -0.141446  0.696902  0.737597  1.000000     0.857632\n",
       "multiplaied -0.216547  0.949264  0.929561  0.857632     1.000000"
      ]
     },
     "execution_count": 435,
     "metadata": {},
     "output_type": "execute_result"
    }
   ],
   "source": [
    "df.corr(numeric_only=True)  # находит корреляции под копотом"
   ]
  },
  {
   "cell_type": "code",
   "execution_count": 436,
   "id": "e3406068",
   "metadata": {},
   "outputs": [
    {
     "data": {
      "text/plain": [
       "<AxesSubplot: >"
      ]
     },
     "execution_count": 436,
     "metadata": {},
     "output_type": "execute_result"
    },
    {
     "data": {
      "image/png": "[encoded data removed]",
      "text/plain": [
       "<Figure size 640x480 with 1 Axes>"
      ]
     },
     "metadata": {},
     "output_type": "display_data"
    }
   ],
   "source": [
    "df[\"age\"].plot()"
   ]
  },
  {
   "cell_type": "code",
   "execution_count": 506,
   "id": "f50ffb53",
   "metadata": {},
   "outputs": [
    {
     "name": "stdout",
     "output_type": "stream",
     "text": [
      "<class 'pandas.core.frame.DataFrame'>\n",
      "RangeIndex: 1186 entries, 0 to 1185\n",
      "Data columns (total 15 columns):\n",
      " #   Column        Non-Null Count  Dtype         \n",
      "---  ------        --------------  -----         \n",
      " 0   id            1186 non-null   int64         \n",
      " 1   name          1186 non-null   object        \n",
      " 2   age           1186 non-null   int8          \n",
      " 3   zodiac        1186 non-null   object        \n",
      " 4   city          1186 non-null   object        \n",
      " 5   country       1186 non-null   object        \n",
      " 6   from          1184 non-null   float16       \n",
      " 7   to            1184 non-null   float16       \n",
      " 8   interests     1186 non-null   object        \n",
      " 9   urls          1186 non-null   object        \n",
      " 10  last          1132 non-null   object        \n",
      " 11  prflink       1186 non-null   object        \n",
      " 12  added_column  1186 non-null   object        \n",
      " 13  multiplaied   1184 non-null   float16       \n",
      " 14  Data          1186 non-null   datetime64[ns]\n",
      "dtypes: datetime64[ns](1), float16(3), int64(1), int8(1), object(9)\n",
      "memory usage: 110.2+ KB\n"
     ]
    }
   ],
   "source": [
    "df.info()"
   ]
  },
  {
   "cell_type": "code",
   "execution_count": 445,
   "id": "1405a036",
   "metadata": {},
   "outputs": [
    {
     "data": {
      "text/plain": [
       "<AxesSubplot: xlabel='age'>"
      ]
     },
     "execution_count": 445,
     "metadata": {},
     "output_type": "execute_result"
    },
    {
     "data": {
      "image/png": "[encoded data removed]",
      "text/plain": [
       "<Figure size 640x480 with 1 Axes>"
      ]
     },
     "metadata": {},
     "output_type": "display_data"
    }
   ],
   "source": [
    "df.groupby(\"age\")[\"to\"].mean().plot()"
   ]
  },
  {
   "cell_type": "code",
   "execution_count": 458,
   "id": "ad356334",
   "metadata": {},
   "outputs": [
    {
     "data": {
      "text/plain": [
       "<AxesSubplot: xlabel='from'>"
      ]
     },
     "execution_count": 458,
     "metadata": {},
     "output_type": "execute_result"
    },
    {
     "data": {
      "image/png": "[encoded data removed]",
      "text/plain": [
       "<Figure size 2000x600 with 1 Axes>"
      ]
     },
     "metadata": {},
     "output_type": "display_data"
    }
   ],
   "source": [
    "df.groupby(\"from\")[[\"age\"]].mean().plot(figsize=(20, 6))"
   ]
  },
  {
   "cell_type": "markdown",
   "id": "67c2782f",
   "metadata": {},
   "source": [
    "<h1 style=\"color:blue;\">Missing data</h1>"
   ]
  },
  {
   "cell_type": "code",
   "execution_count": 477,
   "id": "f4b23687",
   "metadata": {},
   "outputs": [
    {
     "data": {
      "text/plain": [
       "54"
      ]
     },
     "execution_count": 477,
     "metadata": {},
     "output_type": "execute_result"
    }
   ],
   "source": [
    "pd.isnull(df[\"last\"]).sum()"
   ]
  },
  {
   "cell_type": "code",
   "execution_count": 480,
   "id": "f4d2e050",
   "metadata": {},
   "outputs": [
    {
     "data": {
      "text/html": [
       "<div>\n",
       "<style scoped>\n",
       "    .dataframe tbody tr th:only-of-type {\n",
       "        vertical-align: middle;\n",
       "    }\n",
       "\n",
       "    .dataframe tbody tr th {\n",
       "        vertical-align: top;\n",
       "    }\n",
       "\n",
       "    .dataframe thead th {\n",
       "        text-align: right;\n",
       "    }\n",
       "</style>\n",
       "<table border=\"1\" class=\"dataframe\">\n",
       "  <thead>\n",
       "    <tr style=\"text-align: right;\">\n",
       "      <th></th>\n",
       "      <th>id</th>\n",
       "      <th>name</th>\n",
       "      <th>age</th>\n",
       "      <th>zodiac</th>\n",
       "      <th>city</th>\n",
       "      <th>country</th>\n",
       "      <th>from</th>\n",
       "      <th>to</th>\n",
       "      <th>interests</th>\n",
       "      <th>urls</th>\n",
       "      <th>last</th>\n",
       "      <th>prflink</th>\n",
       "      <th>added_column</th>\n",
       "      <th>multiplaied</th>\n",
       "      <th>Data</th>\n",
       "    </tr>\n",
       "  </thead>\n",
       "  <tbody>\n",
       "    <tr>\n",
       "      <th>0</th>\n",
       "      <td>6168433</td>\n",
       "      <td>OLGA</td>\n",
       "      <td>52</td>\n",
       "      <td>Рыбы</td>\n",
       "      <td>Геническ</td>\n",
       "      <td>Украина</td>\n",
       "      <td>48.0</td>\n",
       "      <td>62.0</td>\n",
       "      <td>дружба, любовь, брак, встреча</td>\n",
       "      <td>https://ukrdate.net/photos/33/3433/6168433/oci...</td>\n",
       "      <td>0</td>\n",
       "      <td>https://ukrdate.net/u/uk5067609</td>\n",
       "      <td>h</td>\n",
       "      <td>3224.0</td>\n",
       "      <td>2022-01-01</td>\n",
       "    </tr>\n",
       "    <tr>\n",
       "      <th>1</th>\n",
       "      <td>11790031</td>\n",
       "      <td>Лия</td>\n",
       "      <td>60</td>\n",
       "      <td>Овен</td>\n",
       "      <td>Киев</td>\n",
       "      <td>Украина</td>\n",
       "      <td>58.0</td>\n",
       "      <td>66.0</td>\n",
       "      <td>дружба, любовь, брак, встреча</td>\n",
       "      <td>https://ukrdate.net/photos/31/31/11790031/viyk...</td>\n",
       "      <td>была позавчера</td>\n",
       "      <td>https://ukrdate.net/u/du8430249</td>\n",
       "      <td>h</td>\n",
       "      <td>3960.0</td>\n",
       "      <td>2022-01-01</td>\n",
       "    </tr>\n",
       "    <tr>\n",
       "      <th>2</th>\n",
       "      <td>10193113</td>\n",
       "      <td>Светлана</td>\n",
       "      <td>53</td>\n",
       "      <td>Рак</td>\n",
       "      <td>Запорожье</td>\n",
       "      <td>Украина</td>\n",
       "      <td>40.0</td>\n",
       "      <td>61.0</td>\n",
       "      <td>дружба</td>\n",
       "      <td>https://ukrdate.net/photos/113/3113/10193113/y...</td>\n",
       "      <td>была час назад</td>\n",
       "      <td>https://ukrdate.net/u/ru9432768</td>\n",
       "      <td>h</td>\n",
       "      <td>3232.0</td>\n",
       "      <td>2022-01-01</td>\n",
       "    </tr>\n",
       "    <tr>\n",
       "      <th>3</th>\n",
       "      <td>9580194</td>\n",
       "      <td>Таня</td>\n",
       "      <td>40</td>\n",
       "      <td>Лев</td>\n",
       "      <td>Винница</td>\n",
       "      <td>Украина</td>\n",
       "      <td>40.0</td>\n",
       "      <td>50.0</td>\n",
       "      <td>дружба, любовь, брак</td>\n",
       "      <td>https://ukrdate.net/photos/194/194/9580194/clu...</td>\n",
       "      <td>была 5 часов назад</td>\n",
       "      <td>https://ukrdate.net/u/du5828766</td>\n",
       "      <td>h</td>\n",
       "      <td>2000.0</td>\n",
       "      <td>2022-01-01</td>\n",
       "    </tr>\n",
       "    <tr>\n",
       "      <th>4</th>\n",
       "      <td>7178184</td>\n",
       "      <td>Светлана</td>\n",
       "      <td>65</td>\n",
       "      <td>Телец</td>\n",
       "      <td>Киев</td>\n",
       "      <td>Украина</td>\n",
       "      <td>61.0</td>\n",
       "      <td>69.0</td>\n",
       "      <td>дружба, любовь, брак, встреча</td>\n",
       "      <td>https://ukrdate.net/photos/184/3184/7178184/z6...</td>\n",
       "      <td>была 4 дня назад</td>\n",
       "      <td>https://ukrdate.net/u/ru2095789</td>\n",
       "      <td>h</td>\n",
       "      <td>4484.0</td>\n",
       "      <td>2022-01-01</td>\n",
       "    </tr>\n",
       "  </tbody>\n",
       "</table>\n",
       "</div>"
      ],
      "text/plain": [
       "         id      name  age zodiac       city  country  from    to  \\\n",
       "0   6168433      OLGA   52   Рыбы   Геническ  Украина  48.0  62.0   \n",
       "1  11790031       Лия   60   Овен       Киев  Украина  58.0  66.0   \n",
       "2  10193113  Светлана   53    Рак  Запорожье  Украина  40.0  61.0   \n",
       "3   9580194      Таня   40    Лев    Винница  Украина  40.0  50.0   \n",
       "4   7178184  Светлана   65  Телец       Киев  Украина  61.0  69.0   \n",
       "\n",
       "                       interests  \\\n",
       "0  дружба, любовь, брак, встреча   \n",
       "1  дружба, любовь, брак, встреча   \n",
       "2                         дружба   \n",
       "3           дружба, любовь, брак   \n",
       "4  дружба, любовь, брак, встреча   \n",
       "\n",
       "                                                urls                last  \\\n",
       "0  https://ukrdate.net/photos/33/3433/6168433/oci...                   0   \n",
       "1  https://ukrdate.net/photos/31/31/11790031/viyk...      была позавчера   \n",
       "2  https://ukrdate.net/photos/113/3113/10193113/y...      была час назад   \n",
       "3  https://ukrdate.net/photos/194/194/9580194/clu...  была 5 часов назад   \n",
       "4  https://ukrdate.net/photos/184/3184/7178184/z6...    была 4 дня назад   \n",
       "\n",
       "                           prflink added_column  multiplaied       Data  \n",
       "0  https://ukrdate.net/u/uk5067609            h       3224.0 2022-01-01  \n",
       "1  https://ukrdate.net/u/du8430249            h       3960.0 2022-01-01  \n",
       "2  https://ukrdate.net/u/ru9432768            h       3232.0 2022-01-01  \n",
       "3  https://ukrdate.net/u/du5828766            h       2000.0 2022-01-01  \n",
       "4  https://ukrdate.net/u/ru2095789            h       4484.0 2022-01-01  "
      ]
     },
     "execution_count": 480,
     "metadata": {},
     "output_type": "execute_result"
    }
   ],
   "source": [
    "df.fillna(0).head(5)  #  5 exe"
   ]
  },
  {
   "cell_type": "markdown",
   "id": "08bb2169",
   "metadata": {},
   "source": [
    "<h1>Fixing logically incorrect data\n",
    "</h1>"
   ]
  },
  {
   "cell_type": "code",
   "execution_count": 489,
   "id": "dd45d727",
   "metadata": {},
   "outputs": [
    {
     "data": {
      "text/plain": [
       "array([52, 60, 53, 40, 65, 48, 42, 41, 29, 26, 24, 18, 44, 59, 32, 57, 37,\n",
       "       31, 68, 47, 23, 51, 39, 66, 50, 54, 27, 20, 25, 35, 21, 45, 64, 56,\n",
       "       22, 30, 61, 70, 34, 55, 36, 38, 46, 72, 43, 63, 28, 58, 62, 33, 49,\n",
       "       19, 69, 67, 71], dtype=int8)"
      ]
     },
     "execution_count": 489,
     "metadata": {},
     "output_type": "execute_result"
    }
   ],
   "source": [
    "df[\"age\"].unique()"
   ]
  },
  {
   "cell_type": "code",
   "execution_count": 505,
   "id": "d4316b61",
   "metadata": {},
   "outputs": [
    {
     "data": {
      "text/html": [
       "<div>\n",
       "<style scoped>\n",
       "    .dataframe tbody tr th:only-of-type {\n",
       "        vertical-align: middle;\n",
       "    }\n",
       "\n",
       "    .dataframe tbody tr th {\n",
       "        vertical-align: top;\n",
       "    }\n",
       "\n",
       "    .dataframe thead th {\n",
       "        text-align: right;\n",
       "    }\n",
       "</style>\n",
       "<table border=\"1\" class=\"dataframe\">\n",
       "  <thead>\n",
       "    <tr style=\"text-align: right;\">\n",
       "      <th></th>\n",
       "      <th>id</th>\n",
       "      <th>name</th>\n",
       "      <th>age</th>\n",
       "      <th>zodiac</th>\n",
       "      <th>city</th>\n",
       "      <th>country</th>\n",
       "      <th>from</th>\n",
       "      <th>to</th>\n",
       "      <th>interests</th>\n",
       "      <th>urls</th>\n",
       "      <th>last</th>\n",
       "      <th>prflink</th>\n",
       "      <th>added_column</th>\n",
       "      <th>multiplaied</th>\n",
       "      <th>Data</th>\n",
       "    </tr>\n",
       "  </thead>\n",
       "  <tbody>\n",
       "  </tbody>\n",
       "</table>\n",
       "</div>"
      ],
      "text/plain": [
       "Empty DataFrame\n",
       "Columns: [id, name, age, zodiac, city, country, from, to, interests, urls, last, prflink, added_column, multiplaied, Data]\n",
       "Index: []"
      ]
     },
     "execution_count": 505,
     "metadata": {},
     "output_type": "execute_result"
    }
   ],
   "source": [
    "df[df[\"age\"] > 100]"
   ]
  },
  {
   "cell_type": "code",
   "execution_count": null,
   "id": "9561a9eb",
   "metadata": {},
   "outputs": [],
   "source": []
  }
 ],
 "metadata": {
  "kernelspec": {
   "display_name": "Python 3 (ipykernel)",
   "language": "python",
   "name": "python3"
  },
  "language_info": {
   "codemirror_mode": {
    "name": "ipython",
    "version": 3
   },
   "file_extension": ".py",
   "mimetype": "text/x-python",
   "name": "python",
   "nbconvert_exporter": "python",
   "pygments_lexer": "ipython3",
   "version": "3.11.0"
  }
 },
 "nbformat": 4,
 "nbformat_minor": 5
}
