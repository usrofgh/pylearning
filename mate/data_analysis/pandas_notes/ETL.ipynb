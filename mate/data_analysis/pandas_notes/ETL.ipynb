{
 "cells": [
  {
   "cell_type": "markdown",
   "id": "3c4340b4",
   "metadata": {},
   "source": [
    "<h1>EXTRACT TRANSFORM LOAD</h1>\n",
    "EXTRACT - выгружаем данные для обработки<br>\n",
    "Transform - смесь клининга и ранглинга<br>\n",
    "LOAD - обработанные данные загружаем в другое место(екстрактим с одного - загркжаем в другое)<br>\n",
    "в ETL не доходим до анализа. Мы подготавливаем \"сырые\" данные для анализа<br>\n",
    "ETL goal is to take data that might be unstructured or difficult to use or access and serve s source of clean, structured data."
   ]
  },
  {
   "cell_type": "markdown",
   "id": "ebeb8ef3",
   "metadata": {},
   "source": [
    "<h2 style=\"color: blue\">хорошо работать небольшими кусками данными, лоадидь их, чтобы сильно не нагружало память(дольше будет работатьЬ), также если будет ошибка где-то в середине - придется все делать заново если кусками не лоадидь</h2>"
   ]
  },
  {
   "cell_type": "code",
   "execution_count": 2,
   "id": "58a3e4fc",
   "metadata": {},
   "outputs": [],
   "source": [
    "import pandas as pd\n",
    "import requests"
   ]
  },
  {
   "cell_type": "markdown",
   "id": "8cf7f2f2",
   "metadata": {},
   "source": [
    "<h1>EXTRACT</h1>"
   ]
  },
  {
   "cell_type": "code",
   "execution_count": 3,
   "id": "e6517f2f",
   "metadata": {},
   "outputs": [],
   "source": [
    "response = requests.get(\"https://pokeapi.co/api/v2/pokemon/\").json()"
   ]
  },
  {
   "cell_type": "code",
   "execution_count": 4,
   "id": "23f09a3f",
   "metadata": {},
   "outputs": [
    {
     "data": {
      "text/plain": [
       "{'count': 1154,\n",
       " 'next': 'https://pokeapi.co/api/v2/pokemon/?offset=20&limit=20',\n",
       " 'previous': None,\n",
       " 'results': [{'name': 'bulbasaur',\n",
       "   'url': 'https://pokeapi.co/api/v2/pokemon/1/'},\n",
       "  {'name': 'ivysaur', 'url': 'https://pokeapi.co/api/v2/pokemon/2/'},\n",
       "  {'name': 'venusaur', 'url': 'https://pokeapi.co/api/v2/pokemon/3/'},\n",
       "  {'name': 'charmander', 'url': 'https://pokeapi.co/api/v2/pokemon/4/'},\n",
       "  {'name': 'charmeleon', 'url': 'https://pokeapi.co/api/v2/pokemon/5/'},\n",
       "  {'name': 'charizard', 'url': 'https://pokeapi.co/api/v2/pokemon/6/'},\n",
       "  {'name': 'squirtle', 'url': 'https://pokeapi.co/api/v2/pokemon/7/'},\n",
       "  {'name': 'wartortle', 'url': 'https://pokeapi.co/api/v2/pokemon/8/'},\n",
       "  {'name': 'blastoise', 'url': 'https://pokeapi.co/api/v2/pokemon/9/'},\n",
       "  {'name': 'caterpie', 'url': 'https://pokeapi.co/api/v2/pokemon/10/'},\n",
       "  {'name': 'metapod', 'url': 'https://pokeapi.co/api/v2/pokemon/11/'},\n",
       "  {'name': 'butterfree', 'url': 'https://pokeapi.co/api/v2/pokemon/12/'},\n",
       "  {'name': 'weedle', 'url': 'https://pokeapi.co/api/v2/pokemon/13/'},\n",
       "  {'name': 'kakuna', 'url': 'https://pokeapi.co/api/v2/pokemon/14/'},\n",
       "  {'name': 'beedrill', 'url': 'https://pokeapi.co/api/v2/pokemon/15/'},\n",
       "  {'name': 'pidgey', 'url': 'https://pokeapi.co/api/v2/pokemon/16/'},\n",
       "  {'name': 'pidgeotto', 'url': 'https://pokeapi.co/api/v2/pokemon/17/'},\n",
       "  {'name': 'pidgeot', 'url': 'https://pokeapi.co/api/v2/pokemon/18/'},\n",
       "  {'name': 'rattata', 'url': 'https://pokeapi.co/api/v2/pokemon/19/'},\n",
       "  {'name': 'raticate', 'url': 'https://pokeapi.co/api/v2/pokemon/20/'}]}"
      ]
     },
     "execution_count": 4,
     "metadata": {},
     "output_type": "execute_result"
    }
   ],
   "source": [
    "response"
   ]
  },
  {
   "cell_type": "code",
   "execution_count": 5,
   "id": "dc0ab8d9",
   "metadata": {},
   "outputs": [],
   "source": [
    "pokemons = []\n",
    "\n",
    "for item in response[\"results\"]:\n",
    "    pokemon_response = requests.get(item[\"url\"]).json()\n",
    "    pokemons.append(pokemon_response)"
   ]
  },
  {
   "cell_type": "code",
   "execution_count": 6,
   "id": "d4215946",
   "metadata": {},
   "outputs": [],
   "source": [
    "df = pd.DataFrame.from_dict(pokemons)\n",
    "df = df.set_index(\"id\")"
   ]
  },
  {
   "cell_type": "code",
   "execution_count": 7,
   "id": "316176f5",
   "metadata": {},
   "outputs": [
    {
     "data": {
      "text/html": [
       "<div>\n",
       "<style scoped>\n",
       "    .dataframe tbody tr th:only-of-type {\n",
       "        vertical-align: middle;\n",
       "    }\n",
       "\n",
       "    .dataframe tbody tr th {\n",
       "        vertical-align: top;\n",
       "    }\n",
       "\n",
       "    .dataframe thead th {\n",
       "        text-align: right;\n",
       "    }\n",
       "</style>\n",
       "<table border=\"1\" class=\"dataframe\">\n",
       "  <thead>\n",
       "    <tr style=\"text-align: right;\">\n",
       "      <th></th>\n",
       "      <th>abilities</th>\n",
       "      <th>base_experience</th>\n",
       "      <th>forms</th>\n",
       "      <th>game_indices</th>\n",
       "      <th>height</th>\n",
       "      <th>held_items</th>\n",
       "      <th>is_default</th>\n",
       "      <th>location_area_encounters</th>\n",
       "      <th>moves</th>\n",
       "      <th>name</th>\n",
       "      <th>order</th>\n",
       "      <th>past_types</th>\n",
       "      <th>species</th>\n",
       "      <th>sprites</th>\n",
       "      <th>stats</th>\n",
       "      <th>types</th>\n",
       "      <th>weight</th>\n",
       "    </tr>\n",
       "    <tr>\n",
       "      <th>id</th>\n",
       "      <th></th>\n",
       "      <th></th>\n",
       "      <th></th>\n",
       "      <th></th>\n",
       "      <th></th>\n",
       "      <th></th>\n",
       "      <th></th>\n",
       "      <th></th>\n",
       "      <th></th>\n",
       "      <th></th>\n",
       "      <th></th>\n",
       "      <th></th>\n",
       "      <th></th>\n",
       "      <th></th>\n",
       "      <th></th>\n",
       "      <th></th>\n",
       "      <th></th>\n",
       "    </tr>\n",
       "  </thead>\n",
       "  <tbody>\n",
       "    <tr>\n",
       "      <th>1</th>\n",
       "      <td>[{'ability': {'name': 'overgrow', 'url': 'http...</td>\n",
       "      <td>64</td>\n",
       "      <td>[{'name': 'bulbasaur', 'url': 'https://pokeapi...</td>\n",
       "      <td>[{'game_index': 153, 'version': {'name': 'red'...</td>\n",
       "      <td>7</td>\n",
       "      <td>[]</td>\n",
       "      <td>True</td>\n",
       "      <td>https://pokeapi.co/api/v2/pokemon/1/encounters</td>\n",
       "      <td>[{'move': {'name': 'razor-wind', 'url': 'https...</td>\n",
       "      <td>bulbasaur</td>\n",
       "      <td>1</td>\n",
       "      <td>[]</td>\n",
       "      <td>{'name': 'bulbasaur', 'url': 'https://pokeapi....</td>\n",
       "      <td>{'back_default': 'https://raw.githubuserconten...</td>\n",
       "      <td>[{'base_stat': 45, 'effort': 0, 'stat': {'name...</td>\n",
       "      <td>[{'slot': 1, 'type': {'name': 'grass', 'url': ...</td>\n",
       "      <td>69</td>\n",
       "    </tr>\n",
       "    <tr>\n",
       "      <th>2</th>\n",
       "      <td>[{'ability': {'name': 'overgrow', 'url': 'http...</td>\n",
       "      <td>142</td>\n",
       "      <td>[{'name': 'ivysaur', 'url': 'https://pokeapi.c...</td>\n",
       "      <td>[{'game_index': 9, 'version': {'name': 'red', ...</td>\n",
       "      <td>10</td>\n",
       "      <td>[]</td>\n",
       "      <td>True</td>\n",
       "      <td>https://pokeapi.co/api/v2/pokemon/2/encounters</td>\n",
       "      <td>[{'move': {'name': 'swords-dance', 'url': 'htt...</td>\n",
       "      <td>ivysaur</td>\n",
       "      <td>2</td>\n",
       "      <td>[]</td>\n",
       "      <td>{'name': 'ivysaur', 'url': 'https://pokeapi.co...</td>\n",
       "      <td>{'back_default': 'https://raw.githubuserconten...</td>\n",
       "      <td>[{'base_stat': 60, 'effort': 0, 'stat': {'name...</td>\n",
       "      <td>[{'slot': 1, 'type': {'name': 'grass', 'url': ...</td>\n",
       "      <td>130</td>\n",
       "    </tr>\n",
       "  </tbody>\n",
       "</table>\n",
       "</div>"
      ],
      "text/plain": [
       "                                            abilities  base_experience  \\\n",
       "id                                                                       \n",
       "1   [{'ability': {'name': 'overgrow', 'url': 'http...               64   \n",
       "2   [{'ability': {'name': 'overgrow', 'url': 'http...              142   \n",
       "\n",
       "                                                forms  \\\n",
       "id                                                      \n",
       "1   [{'name': 'bulbasaur', 'url': 'https://pokeapi...   \n",
       "2   [{'name': 'ivysaur', 'url': 'https://pokeapi.c...   \n",
       "\n",
       "                                         game_indices  height held_items  \\\n",
       "id                                                                         \n",
       "1   [{'game_index': 153, 'version': {'name': 'red'...       7         []   \n",
       "2   [{'game_index': 9, 'version': {'name': 'red', ...      10         []   \n",
       "\n",
       "    is_default                        location_area_encounters  \\\n",
       "id                                                               \n",
       "1         True  https://pokeapi.co/api/v2/pokemon/1/encounters   \n",
       "2         True  https://pokeapi.co/api/v2/pokemon/2/encounters   \n",
       "\n",
       "                                                moves       name  order  \\\n",
       "id                                                                        \n",
       "1   [{'move': {'name': 'razor-wind', 'url': 'https...  bulbasaur      1   \n",
       "2   [{'move': {'name': 'swords-dance', 'url': 'htt...    ivysaur      2   \n",
       "\n",
       "   past_types                                            species  \\\n",
       "id                                                                 \n",
       "1          []  {'name': 'bulbasaur', 'url': 'https://pokeapi....   \n",
       "2          []  {'name': 'ivysaur', 'url': 'https://pokeapi.co...   \n",
       "\n",
       "                                              sprites  \\\n",
       "id                                                      \n",
       "1   {'back_default': 'https://raw.githubuserconten...   \n",
       "2   {'back_default': 'https://raw.githubuserconten...   \n",
       "\n",
       "                                                stats  \\\n",
       "id                                                      \n",
       "1   [{'base_stat': 45, 'effort': 0, 'stat': {'name...   \n",
       "2   [{'base_stat': 60, 'effort': 0, 'stat': {'name...   \n",
       "\n",
       "                                                types  weight  \n",
       "id                                                             \n",
       "1   [{'slot': 1, 'type': {'name': 'grass', 'url': ...      69  \n",
       "2   [{'slot': 1, 'type': {'name': 'grass', 'url': ...     130  "
      ]
     },
     "execution_count": 7,
     "metadata": {},
     "output_type": "execute_result"
    }
   ],
   "source": [
    "df.head(2)"
   ]
  },
  {
   "cell_type": "code",
   "execution_count": 8,
   "id": "9a46f853",
   "metadata": {},
   "outputs": [],
   "source": [
    "df_columns = [\"name\", \"base_experience\", \"height\", \"weight\", \"types\"]"
   ]
  },
  {
   "cell_type": "code",
   "execution_count": null,
   "id": "e096680d",
   "metadata": {},
   "outputs": [],
   "source": []
  },
  {
   "cell_type": "code",
   "execution_count": 9,
   "id": "6538eba4",
   "metadata": {},
   "outputs": [
    {
     "data": {
      "text/html": [
       "<div>\n",
       "<style scoped>\n",
       "    .dataframe tbody tr th:only-of-type {\n",
       "        vertical-align: middle;\n",
       "    }\n",
       "\n",
       "    .dataframe tbody tr th {\n",
       "        vertical-align: top;\n",
       "    }\n",
       "\n",
       "    .dataframe thead th {\n",
       "        text-align: right;\n",
       "    }\n",
       "</style>\n",
       "<table border=\"1\" class=\"dataframe\">\n",
       "  <thead>\n",
       "    <tr style=\"text-align: right;\">\n",
       "      <th></th>\n",
       "      <th>name</th>\n",
       "      <th>base_experience</th>\n",
       "      <th>height</th>\n",
       "      <th>weight</th>\n",
       "      <th>types</th>\n",
       "    </tr>\n",
       "    <tr>\n",
       "      <th>id</th>\n",
       "      <th></th>\n",
       "      <th></th>\n",
       "      <th></th>\n",
       "      <th></th>\n",
       "      <th></th>\n",
       "    </tr>\n",
       "  </thead>\n",
       "  <tbody>\n",
       "    <tr>\n",
       "      <th>1</th>\n",
       "      <td>bulbasaur</td>\n",
       "      <td>64</td>\n",
       "      <td>7</td>\n",
       "      <td>69</td>\n",
       "      <td>[{'slot': 1, 'type': {'name': 'grass', 'url': ...</td>\n",
       "    </tr>\n",
       "    <tr>\n",
       "      <th>2</th>\n",
       "      <td>ivysaur</td>\n",
       "      <td>142</td>\n",
       "      <td>10</td>\n",
       "      <td>130</td>\n",
       "      <td>[{'slot': 1, 'type': {'name': 'grass', 'url': ...</td>\n",
       "    </tr>\n",
       "    <tr>\n",
       "      <th>3</th>\n",
       "      <td>venusaur</td>\n",
       "      <td>263</td>\n",
       "      <td>20</td>\n",
       "      <td>1000</td>\n",
       "      <td>[{'slot': 1, 'type': {'name': 'grass', 'url': ...</td>\n",
       "    </tr>\n",
       "  </tbody>\n",
       "</table>\n",
       "</div>"
      ],
      "text/plain": [
       "         name  base_experience  height  weight  \\\n",
       "id                                               \n",
       "1   bulbasaur               64       7      69   \n",
       "2     ivysaur              142      10     130   \n",
       "3    venusaur              263      20    1000   \n",
       "\n",
       "                                                types  \n",
       "id                                                     \n",
       "1   [{'slot': 1, 'type': {'name': 'grass', 'url': ...  \n",
       "2   [{'slot': 1, 'type': {'name': 'grass', 'url': ...  \n",
       "3   [{'slot': 1, 'type': {'name': 'grass', 'url': ...  "
      ]
     },
     "execution_count": 9,
     "metadata": {},
     "output_type": "execute_result"
    }
   ],
   "source": [
    "df = df.loc[:, df_columns].copy()\n",
    "df.head(3)"
   ]
  },
  {
   "cell_type": "code",
   "execution_count": 17,
   "id": "0c807485",
   "metadata": {},
   "outputs": [
    {
     "data": {
      "text/plain": [
       "[[{'name': 'grass', 'url': 'https://pokeapi.co/api/v2/type/12/'},\n",
       "  {'name': 'poison', 'url': 'https://pokeapi.co/api/v2/type/4/'}],\n",
       " [{'name': 'grass', 'url': 'https://pokeapi.co/api/v2/type/12/'},\n",
       "  {'name': 'poison', 'url': 'https://pokeapi.co/api/v2/type/4/'}],\n",
       " [{'name': 'grass', 'url': 'https://pokeapi.co/api/v2/type/12/'},\n",
       "  {'name': 'poison', 'url': 'https://pokeapi.co/api/v2/type/4/'}]]"
      ]
     },
     "execution_count": 17,
     "metadata": {},
     "output_type": "execute_result"
    }
   ],
   "source": [
    "type_list = [  # убираем и-ю о слотах \n",
    "    [slot[\"type\"] for slot in type_]\n",
    "     for type_ in df[\"types\"]  # испольлзуется фор для облегчения демонстрации примера, но в целом лучше не юзать его\n",
    "]\n",
    "type_list[:3]"
   ]
  },
  {
   "cell_type": "code",
   "execution_count": 22,
   "id": "77f0bd40",
   "metadata": {},
   "outputs": [],
   "source": [
    "flat_types_list = [slot[\"type\"] for type_ in df[\"types\"] for slot in type_] # раскрыл список списков к-й сверху "
   ]
  },
  {
   "cell_type": "code",
   "execution_count": 23,
   "id": "4e8f2459",
   "metadata": {},
   "outputs": [
    {
     "data": {
      "text/plain": [
       "[{'name': 'grass', 'url': 'https://pokeapi.co/api/v2/type/12/'},\n",
       " {'name': 'poison', 'url': 'https://pokeapi.co/api/v2/type/4/'},\n",
       " {'name': 'grass', 'url': 'https://pokeapi.co/api/v2/type/12/'}]"
      ]
     },
     "execution_count": 23,
     "metadata": {},
     "output_type": "execute_result"
    }
   ],
   "source": [
    "flat_types_list[:3]"
   ]
  },
  {
   "cell_type": "code",
   "execution_count": 26,
   "id": "774355e4",
   "metadata": {},
   "outputs": [
    {
     "data": {
      "text/html": [
       "<div>\n",
       "<style scoped>\n",
       "    .dataframe tbody tr th:only-of-type {\n",
       "        vertical-align: middle;\n",
       "    }\n",
       "\n",
       "    .dataframe tbody tr th {\n",
       "        vertical-align: top;\n",
       "    }\n",
       "\n",
       "    .dataframe thead th {\n",
       "        text-align: right;\n",
       "    }\n",
       "</style>\n",
       "<table border=\"1\" class=\"dataframe\">\n",
       "  <thead>\n",
       "    <tr style=\"text-align: right;\">\n",
       "      <th></th>\n",
       "      <th>name</th>\n",
       "      <th>url</th>\n",
       "    </tr>\n",
       "  </thead>\n",
       "  <tbody>\n",
       "    <tr>\n",
       "      <th>0</th>\n",
       "      <td>grass</td>\n",
       "      <td>https://pokeapi.co/api/v2/type/12/</td>\n",
       "    </tr>\n",
       "    <tr>\n",
       "      <th>1</th>\n",
       "      <td>poison</td>\n",
       "      <td>https://pokeapi.co/api/v2/type/4/</td>\n",
       "    </tr>\n",
       "    <tr>\n",
       "      <th>6</th>\n",
       "      <td>fire</td>\n",
       "      <td>https://pokeapi.co/api/v2/type/10/</td>\n",
       "    </tr>\n",
       "    <tr>\n",
       "      <th>9</th>\n",
       "      <td>flying</td>\n",
       "      <td>https://pokeapi.co/api/v2/type/3/</td>\n",
       "    </tr>\n",
       "    <tr>\n",
       "      <th>10</th>\n",
       "      <td>water</td>\n",
       "      <td>https://pokeapi.co/api/v2/type/11/</td>\n",
       "    </tr>\n",
       "    <tr>\n",
       "      <th>13</th>\n",
       "      <td>bug</td>\n",
       "      <td>https://pokeapi.co/api/v2/type/7/</td>\n",
       "    </tr>\n",
       "    <tr>\n",
       "      <th>23</th>\n",
       "      <td>normal</td>\n",
       "      <td>https://pokeapi.co/api/v2/type/1/</td>\n",
       "    </tr>\n",
       "  </tbody>\n",
       "</table>\n",
       "</div>"
      ],
      "text/plain": [
       "      name                                 url\n",
       "0    grass  https://pokeapi.co/api/v2/type/12/\n",
       "1   poison   https://pokeapi.co/api/v2/type/4/\n",
       "6     fire  https://pokeapi.co/api/v2/type/10/\n",
       "9   flying   https://pokeapi.co/api/v2/type/3/\n",
       "10   water  https://pokeapi.co/api/v2/type/11/\n",
       "13     bug   https://pokeapi.co/api/v2/type/7/\n",
       "23  normal   https://pokeapi.co/api/v2/type/1/"
      ]
     },
     "execution_count": 26,
     "metadata": {},
     "output_type": "execute_result"
    }
   ],
   "source": [
    "df_types = pd.DataFrame.from_records(flat_types_list).drop_duplicates()\n",
    "df_types"
   ]
  },
  {
   "cell_type": "code",
   "execution_count": 28,
   "id": "3ecb4e73",
   "metadata": {},
   "outputs": [
    {
     "ename": "NameError",
     "evalue": "name 'pokemon_types' is not defined",
     "output_type": "error",
     "traceback": [
      "\u001b[1;31m---------------------------------------------------------------------------\u001b[0m",
      "\u001b[1;31mNameError\u001b[0m                                 Traceback (most recent call last)",
      "Cell \u001b[1;32mIn[28], line 2\u001b[0m\n\u001b[0;32m      1\u001b[0m all_types \u001b[38;5;241m=\u001b[39m [type_[\u001b[38;5;124m\"\u001b[39m\u001b[38;5;124mname\u001b[39m\u001b[38;5;124m\"\u001b[39m]\n\u001b[1;32m----> 2\u001b[0m     \u001b[38;5;28;01mfor\u001b[39;00m type_ \u001b[38;5;129;01min\u001b[39;00m \u001b[43mpokemon_types\u001b[49m\n\u001b[0;32m      3\u001b[0m     \u001b[38;5;28;01mfor\u001b[39;00m pokemon_types \u001b[38;5;129;01min\u001b[39;00m types_list\n\u001b[0;32m      4\u001b[0m ]\n",
      "\u001b[1;31mNameError\u001b[0m: name 'pokemon_types' is not defined"
     ]
    }
   ],
   "source": [
    "all_types = [type_[\"name\"]\n",
    "    for type_ in pokemon_types\n",
    "    for pokemon_types in types_list\n",
    "]"
   ]
  },
  {
   "cell_type": "code",
   "execution_count": null,
   "id": "76473438",
   "metadata": {},
   "outputs": [],
   "source": []
  }
 ],
 "metadata": {
  "kernelspec": {
   "display_name": "Python 3 (ipykernel)",
   "language": "python",
   "name": "python3"
  },
  "language_info": {
   "codemirror_mode": {
    "name": "ipython",
    "version": 3
   },
   "file_extension": ".py",
   "mimetype": "text/x-python",
   "name": "python",
   "nbconvert_exporter": "python",
   "pygments_lexer": "ipython3",
   "version": "3.11.0"
  }
 },
 "nbformat": 4,
 "nbformat_minor": 5
}
